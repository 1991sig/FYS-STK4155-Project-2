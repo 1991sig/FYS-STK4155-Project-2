{
 "cells": [
  {
   "cell_type": "code",
   "execution_count": 1,
   "metadata": {},
   "outputs": [],
   "source": [
    "using LinearAlgebra, DataFrames, CSV, Query, Random, StatsBase, Statistics"
   ]
  },
  {
   "cell_type": "markdown",
   "metadata": {},
   "source": [
    "# Dataprep\n",
    "\n",
    "## Reading the Data\n",
    "\n",
    "Reading in the CSV-file which i acquired from Kaggle. "
   ]
  },
  {
   "cell_type": "code",
   "execution_count": 2,
   "metadata": {},
   "outputs": [
    {
     "name": "stdout",
     "output_type": "stream",
     "text": [
      "25×8 DataFrame\n",
      "│ Row │ variable                   │ mean      │ min       │ median   │ max       │ nunique │ nmissing │ eltype   │\n",
      "│     │ \u001b[90mSymbol\u001b[39m                     │ \u001b[90mFloat64\u001b[39m   │ \u001b[90mReal\u001b[39m      │ \u001b[90mFloat64\u001b[39m  │ \u001b[90mReal\u001b[39m      │ \u001b[90mNothing\u001b[39m │ \u001b[90mNothing\u001b[39m  │ \u001b[90mDataType\u001b[39m │\n",
      "├─────┼────────────────────────────┼───────────┼───────────┼──────────┼───────────┼─────────┼──────────┼──────────┤\n",
      "│ 1   │ ID                         │ 15000.5   │ 1         │ 15000.5  │ 30000     │         │          │ Int64    │\n",
      "│ 2   │ LIMIT_BAL                  │ 1.67484e5 │ 10000.0   │ 140000.0 │ 1.0e6     │         │          │ Float64  │\n",
      "│ 3   │ SEX                        │ 1.60373   │ 1         │ 2.0      │ 2         │         │          │ Int64    │\n",
      "│ 4   │ EDUCATION                  │ 1.85313   │ 0         │ 2.0      │ 6         │         │          │ Int64    │\n",
      "│ 5   │ MARRIAGE                   │ 1.55187   │ 0         │ 2.0      │ 3         │         │          │ Int64    │\n",
      "│ 6   │ AGE                        │ 35.4855   │ 21        │ 34.0     │ 79        │         │          │ Int64    │\n",
      "│ 7   │ PAY_0                      │ -0.0167   │ -2        │ 0.0      │ 8         │         │          │ Int64    │\n",
      "│ 8   │ PAY_2                      │ -0.133767 │ -2        │ 0.0      │ 8         │         │          │ Int64    │\n",
      "│ 9   │ PAY_3                      │ -0.1662   │ -2        │ 0.0      │ 8         │         │          │ Int64    │\n",
      "│ 10  │ PAY_4                      │ -0.220667 │ -2        │ 0.0      │ 8         │         │          │ Int64    │\n",
      "│ 11  │ PAY_5                      │ -0.2662   │ -2        │ 0.0      │ 8         │         │          │ Int64    │\n",
      "│ 12  │ PAY_6                      │ -0.2911   │ -2        │ 0.0      │ 8         │         │          │ Int64    │\n",
      "│ 13  │ BILL_AMT1                  │ 51223.3   │ -165580.0 │ 22381.5  │ 964511.0  │         │          │ Float64  │\n",
      "│ 14  │ BILL_AMT2                  │ 49179.1   │ -69777.0  │ 21200.0  │ 983931.0  │         │          │ Float64  │\n",
      "│ 15  │ BILL_AMT3                  │ 47013.2   │ -157264.0 │ 20088.5  │ 1.66409e6 │         │          │ Float64  │\n",
      "│ 16  │ BILL_AMT4                  │ 43262.9   │ -170000.0 │ 19052.0  │ 891586.0  │         │          │ Float64  │\n",
      "│ 17  │ BILL_AMT5                  │ 40311.4   │ -81334.0  │ 18104.5  │ 927171.0  │         │          │ Float64  │\n",
      "│ 18  │ BILL_AMT6                  │ 38871.8   │ -339603.0 │ 17071.0  │ 961664.0  │         │          │ Float64  │\n",
      "│ 19  │ PAY_AMT1                   │ 5663.58   │ 0.0       │ 2100.0   │ 873552.0  │         │          │ Float64  │\n",
      "│ 20  │ PAY_AMT2                   │ 5921.16   │ 0.0       │ 2009.0   │ 1.68426e6 │         │          │ Float64  │\n",
      "│ 21  │ PAY_AMT3                   │ 5225.68   │ 0.0       │ 1800.0   │ 896040.0  │         │          │ Float64  │\n",
      "│ 22  │ PAY_AMT4                   │ 4826.08   │ 0.0       │ 1500.0   │ 621000.0  │         │          │ Float64  │\n",
      "│ 23  │ PAY_AMT5                   │ 4799.39   │ 0.0       │ 1500.0   │ 426529.0  │         │          │ Float64  │\n",
      "│ 24  │ PAY_AMT6                   │ 5215.5    │ 0.0       │ 1500.0   │ 528666.0  │         │          │ Float64  │\n",
      "│ 25  │ default.payment.next.month │ 0.2212    │ 0         │ 0.0      │ 1         │         │          │ Int64    │\n"
     ]
    }
   ],
   "source": [
    "cc = CSV.read(\"Data/UCI_Credit_Card.csv\")\n",
    "cols = names(cc)\n",
    "println(describe(cc))"
   ]
  },
  {
   "cell_type": "markdown",
   "metadata": {},
   "source": [
    "## Inspection & Preparation of the Data\n",
    "\n",
    "### SEX\n",
    "\n",
    "This variable is categorical. \n",
    "\n",
    "We have `1 = Male` and `2 = Female`.\n",
    "\n",
    "I map this to `0 = Male` and `1 = Female`."
   ]
  },
  {
   "cell_type": "code",
   "execution_count": 3,
   "metadata": {},
   "outputs": [
    {
     "name": "stderr",
     "output_type": "stream",
     "text": [
      "┌ Warning: `getindex(df::DataFrame, col_ind::ColumnIndex)` is deprecated, use `df[!, col_ind]` instead.\n",
      "│   caller = top-level scope at In[3]:1\n",
      "└ @ Core In[3]:1\n"
     ]
    },
    {
     "data": {
      "text/plain": [
       "2-element Array{Int64,1}:\n",
       " 2\n",
       " 1"
      ]
     },
     "execution_count": 3,
     "metadata": {},
     "output_type": "execute_result"
    }
   ],
   "source": [
    "unique(cc[:SEX])"
   ]
  },
  {
   "cell_type": "code",
   "execution_count": 4,
   "metadata": {},
   "outputs": [
    {
     "name": "stderr",
     "output_type": "stream",
     "text": [
      "┌ Warning: `setindex!(df::DataFrame, v::AbstractVector, col_ind::ColumnIndex)` is deprecated, use `begin\n",
      "│     df[!, col_ind] = v\n",
      "│     df\n",
      "│ end` instead.\n",
      "│   caller = top-level scope at In[4]:1\n",
      "└ @ Core In[4]:1\n"
     ]
    },
    {
     "data": {
      "text/plain": [
       "30000-element Array{Int64,1}:\n",
       " 1\n",
       " 1\n",
       " 1\n",
       " 1\n",
       " 0\n",
       " 0\n",
       " 0\n",
       " 1\n",
       " 1\n",
       " 0\n",
       " 1\n",
       " 1\n",
       " 1\n",
       " ⋮\n",
       " 0\n",
       " 0\n",
       " 0\n",
       " 0\n",
       " 0\n",
       " 0\n",
       " 0\n",
       " 0\n",
       " 0\n",
       " 0\n",
       " 0\n",
       " 0"
      ]
     },
     "execution_count": 4,
     "metadata": {},
     "output_type": "execute_result"
    }
   ],
   "source": [
    "cc[:SEX] = map(s -> ifelse(s == 1, 0, 1), cc.SEX)"
   ]
  },
  {
   "cell_type": "markdown",
   "metadata": {},
   "source": [
    "### EDUCATION\n",
    "\n",
    "According to the UCI post where they explain the data, the coding for this variable is as follows:\n",
    "* `1 = graduate school`\n",
    "* `2 = university`\n",
    "* `3 = high school`\n",
    "* `4 = others`\n",
    "\n",
    "But there are some additional values that can be found in the data, which are not explained by the researchers. I map this variable in the following way.\n",
    "* `1 = graduate school`\n",
    "* `2 = university`\n",
    "* `3 = high school`\n",
    "* `4 = others`\n",
    "* `! in 1, 2, 3, 4 => 5 = unknown`\n",
    "\n",
    "This data is ordinal, i.e. it is possible to rank but not determine relative \"value\" of one category compared to another."
   ]
  },
  {
   "cell_type": "code",
   "execution_count": 5,
   "metadata": {},
   "outputs": [
    {
     "data": {
      "text/plain": [
       "7-element Array{Int64,1}:\n",
       " 0\n",
       " 1\n",
       " 2\n",
       " 3\n",
       " 4\n",
       " 5\n",
       " 6"
      ]
     },
     "execution_count": 5,
     "metadata": {},
     "output_type": "execute_result"
    }
   ],
   "source": [
    "sort(unique(cc.EDUCATION))"
   ]
  },
  {
   "cell_type": "code",
   "execution_count": 6,
   "metadata": {},
   "outputs": [
    {
     "name": "stderr",
     "output_type": "stream",
     "text": [
      "┌ Warning: `setindex!(df::DataFrame, v::AbstractVector, col_ind::ColumnIndex)` is deprecated, use `begin\n",
      "│     df[!, col_ind] = v\n",
      "│     df\n",
      "│ end` instead.\n",
      "│   caller = top-level scope at In[6]:1\n",
      "└ @ Core In[6]:1\n"
     ]
    },
    {
     "data": {
      "text/plain": [
       "5-element Array{Int64,1}:\n",
       " 1\n",
       " 2\n",
       " 3\n",
       " 4\n",
       " 5"
      ]
     },
     "execution_count": 6,
     "metadata": {},
     "output_type": "execute_result"
    }
   ],
   "source": [
    "cc[:EDUCATION] = map(s -> ifelse(s in (1, 2, 3, 4), s, 5), cc.EDUCATION)\n",
    "sort(unique(cc.EDUCATION))"
   ]
  },
  {
   "cell_type": "markdown",
   "metadata": {},
   "source": [
    "### Marriage\n",
    "\n",
    "According to UCI the coding for this variable is as follows:\n",
    "* `1 = married`\n",
    "* `2 = single`\n",
    "* `3 = others`\n",
    "\n",
    "There is an unknown value here as well, but since there are not that many marital statuses, I add them to the `others` category.\n",
    "* `1 = married`\n",
    "* `2 = single`\n",
    "* `3 = others`\n",
    "* `! in 1, 2, 3 => 3 = others`\n",
    "\n",
    "This data is categorical."
   ]
  },
  {
   "cell_type": "code",
   "execution_count": 7,
   "metadata": {},
   "outputs": [
    {
     "data": {
      "text/plain": [
       "4-element Array{Int64,1}:\n",
       " 0\n",
       " 1\n",
       " 2\n",
       " 3"
      ]
     },
     "execution_count": 7,
     "metadata": {},
     "output_type": "execute_result"
    }
   ],
   "source": [
    "sort(unique(cc.MARRIAGE))"
   ]
  },
  {
   "cell_type": "code",
   "execution_count": 8,
   "metadata": {},
   "outputs": [
    {
     "name": "stderr",
     "output_type": "stream",
     "text": [
      "┌ Warning: `setindex!(df::DataFrame, v::AbstractVector, col_ind::ColumnIndex)` is deprecated, use `begin\n",
      "│     df[!, col_ind] = v\n",
      "│     df\n",
      "│ end` instead.\n",
      "│   caller = top-level scope at In[8]:1\n",
      "└ @ Core In[8]:1\n"
     ]
    },
    {
     "data": {
      "text/plain": [
       "3-element Array{Int64,1}:\n",
       " 1\n",
       " 2\n",
       " 3"
      ]
     },
     "execution_count": 8,
     "metadata": {},
     "output_type": "execute_result"
    }
   ],
   "source": [
    "cc[:MARRIAGE] = map(s -> ifelse(s in (1, 2, 3), s, 3), cc.MARRIAGE)\n",
    "sort(unique(cc.MARRIAGE))"
   ]
  },
  {
   "cell_type": "markdown",
   "metadata": {},
   "source": [
    "### Pay\n",
    "\n",
    "The variables PAY_0, PAY_2, PAY_3, PAY_4, PAY_5, and PAY_6 supposedly have the following mapping:\n",
    "* `-1 = pay duly`\n",
    "* `1 = 1 mnth over due`\n",
    "* `2 = 2 mnth over due`\n",
    "* ...\n",
    "* `8 = 8 mnth over due`\n",
    "* `9 = 9 mnth or more over due`\n",
    "\n",
    "But there are some unknown values to be found for these variables also. Since these are ordinal variables, and since it is justifiable to treat them as interval data (i.e. that being 2 months over due is twice the amount of time past due as someone being 1 month over due), I assume that the values `-2`, `-1` and `0` all mean `pay duly` and map them to a new label `0`. \n",
    "\n",
    "In the logreg model later, this gives the interpretation that the coefficients for the PAY variable change the predicted logodds of default by twice the amount if someone is 2 months behind compared to 1 month, and 0 if they pay duly. "
   ]
  },
  {
   "cell_type": "code",
   "execution_count": 9,
   "metadata": {},
   "outputs": [
    {
     "name": "stderr",
     "output_type": "stream",
     "text": [
      "┌ Warning: `getindex(df::DataFrame, col_ind::ColumnIndex)` is deprecated, use `df[!, col_ind]` instead.\n",
      "│   caller = top-level scope at In[9]:3\n",
      "└ @ Core In[9]:3\n",
      "┌ Warning: `setindex!(df::DataFrame, v::AbstractVector, col_ind::ColumnIndex)` is deprecated, use `begin\n",
      "│     df[!, col_ind] = v\n",
      "│     df\n",
      "│ end` instead.\n",
      "│   caller = top-level scope at In[9]:3\n",
      "└ @ Core In[9]:3\n"
     ]
    }
   ],
   "source": [
    "for i in [0, 2, 3, 4, 5, 6]\n",
    "    #println(Symbol(\"PAY_\", i))\n",
    "    cc[Symbol(\"PAY_\", i)] = map(s -> ifelse(s in (-2, -1), 0, s),\n",
    "                                cc[Symbol(\"PAY_\", i)])\n",
    "end"
   ]
  },
  {
   "cell_type": "markdown",
   "metadata": {},
   "source": [
    "#### Inspection after cleaning"
   ]
  },
  {
   "cell_type": "code",
   "execution_count": 10,
   "metadata": {},
   "outputs": [
    {
     "name": "stdout",
     "output_type": "stream",
     "text": [
      "25×8 DataFrame\n",
      "│ Row │ variable                   │ mean      │ min       │ median   │ max       │ nunique │ nmissing │ eltype   │\n",
      "│     │ \u001b[90mSymbol\u001b[39m                     │ \u001b[90mFloat64\u001b[39m   │ \u001b[90mReal\u001b[39m      │ \u001b[90mFloat64\u001b[39m  │ \u001b[90mReal\u001b[39m      │ \u001b[90mNothing\u001b[39m │ \u001b[90mNothing\u001b[39m  │ \u001b[90mDataType\u001b[39m │\n",
      "├─────┼────────────────────────────┼───────────┼───────────┼──────────┼───────────┼─────────┼──────────┼──────────┤\n",
      "│ 1   │ ID                         │ 15000.5   │ 1         │ 15000.5  │ 30000     │         │          │ Int64    │\n",
      "│ 2   │ LIMIT_BAL                  │ 1.67484e5 │ 10000.0   │ 140000.0 │ 1.0e6     │         │          │ Float64  │\n",
      "│ 3   │ SEX                        │ 0.603733  │ 0         │ 1.0      │ 1         │         │          │ Int64    │\n",
      "│ 4   │ EDUCATION                  │ 1.85377   │ 1         │ 2.0      │ 5         │         │          │ Int64    │\n",
      "│ 5   │ MARRIAGE                   │ 1.55727   │ 1         │ 2.0      │ 3         │         │          │ Int64    │\n",
      "│ 6   │ AGE                        │ 35.4855   │ 21        │ 34.0     │ 79        │         │          │ Int64    │\n",
      "│ 7   │ PAY_0                      │ 0.356767  │ 0         │ 0.0      │ 8         │         │          │ Int64    │\n",
      "│ 8   │ PAY_2                      │ 0.320033  │ 0         │ 0.0      │ 8         │         │          │ Int64    │\n",
      "│ 9   │ PAY_3                      │ 0.304067  │ 0         │ 0.0      │ 8         │         │          │ Int64    │\n",
      "│ 10  │ PAY_4                      │ 0.258767  │ 0         │ 0.0      │ 8         │         │          │ Int64    │\n",
      "│ 11  │ PAY_5                      │ 0.2215    │ 0         │ 0.0      │ 8         │         │          │ Int64    │\n",
      "│ 12  │ PAY_6                      │ 0.226567  │ 0         │ 0.0      │ 8         │         │          │ Int64    │\n",
      "│ 13  │ BILL_AMT1                  │ 51223.3   │ -165580.0 │ 22381.5  │ 964511.0  │         │          │ Float64  │\n",
      "│ 14  │ BILL_AMT2                  │ 49179.1   │ -69777.0  │ 21200.0  │ 983931.0  │         │          │ Float64  │\n",
      "│ 15  │ BILL_AMT3                  │ 47013.2   │ -157264.0 │ 20088.5  │ 1.66409e6 │         │          │ Float64  │\n",
      "│ 16  │ BILL_AMT4                  │ 43262.9   │ -170000.0 │ 19052.0  │ 891586.0  │         │          │ Float64  │\n",
      "│ 17  │ BILL_AMT5                  │ 40311.4   │ -81334.0  │ 18104.5  │ 927171.0  │         │          │ Float64  │\n",
      "│ 18  │ BILL_AMT6                  │ 38871.8   │ -339603.0 │ 17071.0  │ 961664.0  │         │          │ Float64  │\n",
      "│ 19  │ PAY_AMT1                   │ 5663.58   │ 0.0       │ 2100.0   │ 873552.0  │         │          │ Float64  │\n",
      "│ 20  │ PAY_AMT2                   │ 5921.16   │ 0.0       │ 2009.0   │ 1.68426e6 │         │          │ Float64  │\n",
      "│ 21  │ PAY_AMT3                   │ 5225.68   │ 0.0       │ 1800.0   │ 896040.0  │         │          │ Float64  │\n",
      "│ 22  │ PAY_AMT4                   │ 4826.08   │ 0.0       │ 1500.0   │ 621000.0  │         │          │ Float64  │\n",
      "│ 23  │ PAY_AMT5                   │ 4799.39   │ 0.0       │ 1500.0   │ 426529.0  │         │          │ Float64  │\n",
      "│ 24  │ PAY_AMT6                   │ 5215.5    │ 0.0       │ 1500.0   │ 528666.0  │         │          │ Float64  │\n",
      "│ 25  │ default.payment.next.month │ 0.2212    │ 0         │ 0.0      │ 1         │         │          │ Int64    │\n"
     ]
    }
   ],
   "source": [
    "println(describe(cc))"
   ]
  },
  {
   "cell_type": "markdown",
   "metadata": {},
   "source": [
    "## One-Hot Encoding\n",
    "\n",
    "The following variables are either categorical or ordinal without being suited to be treated as interval variables:\n",
    "* `SEX`\n",
    "* `EDUCATION`\n",
    "* `MARRIAGE`\n",
    "\n",
    "By coding `SEX` as a binary variable, it is not necessary to perform one-hot encoding of this variable, since 0 = Male becomes the reference, and the coefficient for `SEX` is interpreted as the exposure relative to the reference, and only adds to the logodds when `SEX` = 1 = Female. \n",
    "\n",
    "For `EDUCATION` and `MARRIAGE`, one-hot encoding is necessary. \n"
   ]
  },
  {
   "cell_type": "code",
   "execution_count": 11,
   "metadata": {},
   "outputs": [
    {
     "data": {
      "text/plain": [
       "OneHot (generic function with 1 method)"
      ]
     },
     "execution_count": 11,
     "metadata": {},
     "output_type": "execute_result"
    }
   ],
   "source": [
    "function OneHot(x::Vector{Int64}, lab::Symbol)\n",
    "    p = sort(unique(x))\n",
    "    colname = string(lab)\n",
    "    OHdf = DataFrame(keys = p)\n",
    "\n",
    "    for i in 1:length(p)\n",
    "        val = p[i]\n",
    "        v = map(s -> ifelse(s == val, 1, 0), OHdf.keys)\n",
    "        insertcols!(OHdf, i+1, Symbol(colname, val) => v)\n",
    "    end\n",
    "    OHdf\n",
    "end"
   ]
  },
  {
   "cell_type": "code",
   "execution_count": 12,
   "metadata": {},
   "outputs": [
    {
     "name": "stderr",
     "output_type": "stream",
     "text": [
      "┌ Warning: `getindex(df::DataFrame, col_ind::ColumnIndex)` is deprecated, use `df[!, col_ind]` instead.\n",
      "│   caller = top-level scope at In[12]:1\n",
      "└ @ Core In[12]:1\n"
     ]
    },
    {
     "data": {
      "text/html": [
       "<table class=\"data-frame\"><thead><tr><th></th><th>keys</th><th>EDUCATION1</th><th>EDUCATION2</th><th>EDUCATION3</th><th>EDUCATION4</th><th>EDUCATION5</th></tr><tr><th></th><th>Int64</th><th>Int64</th><th>Int64</th><th>Int64</th><th>Int64</th><th>Int64</th></tr></thead><tbody><p>5 rows × 6 columns</p><tr><th>1</th><td>1</td><td>1</td><td>0</td><td>0</td><td>0</td><td>0</td></tr><tr><th>2</th><td>2</td><td>0</td><td>1</td><td>0</td><td>0</td><td>0</td></tr><tr><th>3</th><td>3</td><td>0</td><td>0</td><td>1</td><td>0</td><td>0</td></tr><tr><th>4</th><td>4</td><td>0</td><td>0</td><td>0</td><td>1</td><td>0</td></tr><tr><th>5</th><td>5</td><td>0</td><td>0</td><td>0</td><td>0</td><td>1</td></tr></tbody></table>"
      ],
      "text/latex": [
       "\\begin{tabular}{r|cccccc}\n",
       "\t& keys & EDUCATION1 & EDUCATION2 & EDUCATION3 & EDUCATION4 & EDUCATION5\\\\\n",
       "\t\\hline\n",
       "\t& Int64 & Int64 & Int64 & Int64 & Int64 & Int64\\\\\n",
       "\t\\hline\n",
       "\t1 & 1 & 1 & 0 & 0 & 0 & 0 \\\\\n",
       "\t2 & 2 & 0 & 1 & 0 & 0 & 0 \\\\\n",
       "\t3 & 3 & 0 & 0 & 1 & 0 & 0 \\\\\n",
       "\t4 & 4 & 0 & 0 & 0 & 1 & 0 \\\\\n",
       "\t5 & 5 & 0 & 0 & 0 & 0 & 1 \\\\\n",
       "\\end{tabular}\n"
      ],
      "text/plain": [
       "5×6 DataFrame\n",
       "│ Row │ keys  │ EDUCATION1 │ EDUCATION2 │ EDUCATION3 │ EDUCATION4 │ EDUCATION5 │\n",
       "│     │ \u001b[90mInt64\u001b[39m │ \u001b[90mInt64\u001b[39m      │ \u001b[90mInt64\u001b[39m      │ \u001b[90mInt64\u001b[39m      │ \u001b[90mInt64\u001b[39m      │ \u001b[90mInt64\u001b[39m      │\n",
       "├─────┼───────┼────────────┼────────────┼────────────┼────────────┼────────────┤\n",
       "│ 1   │ 1     │ 1          │ 0          │ 0          │ 0          │ 0          │\n",
       "│ 2   │ 2     │ 0          │ 1          │ 0          │ 0          │ 0          │\n",
       "│ 3   │ 3     │ 0          │ 0          │ 1          │ 0          │ 0          │\n",
       "│ 4   │ 4     │ 0          │ 0          │ 0          │ 1          │ 0          │\n",
       "│ 5   │ 5     │ 0          │ 0          │ 0          │ 0          │ 1          │"
      ]
     },
     "execution_count": 12,
     "metadata": {},
     "output_type": "execute_result"
    }
   ],
   "source": [
    "# Education variable\n",
    "edu = Vector(cc[:EDUCATION])\n",
    "lab = :EDUCATION\n",
    "M1 = OneHot(edu, lab)\n",
    "M1"
   ]
  },
  {
   "cell_type": "code",
   "execution_count": 13,
   "metadata": {},
   "outputs": [
    {
     "name": "stderr",
     "output_type": "stream",
     "text": [
      "┌ Warning: `getindex(df::DataFrame, col_ind::ColumnIndex)` is deprecated, use `df[!, col_ind]` instead.\n",
      "│   caller = top-level scope at In[13]:1\n",
      "└ @ Core In[13]:1\n"
     ]
    },
    {
     "data": {
      "text/html": [
       "<table class=\"data-frame\"><thead><tr><th></th><th>keys</th><th>MARRIAGE1</th><th>MARRIAGE2</th><th>MARRIAGE3</th></tr><tr><th></th><th>Int64</th><th>Int64</th><th>Int64</th><th>Int64</th></tr></thead><tbody><p>3 rows × 4 columns</p><tr><th>1</th><td>1</td><td>1</td><td>0</td><td>0</td></tr><tr><th>2</th><td>2</td><td>0</td><td>1</td><td>0</td></tr><tr><th>3</th><td>3</td><td>0</td><td>0</td><td>1</td></tr></tbody></table>"
      ],
      "text/latex": [
       "\\begin{tabular}{r|cccc}\n",
       "\t& keys & MARRIAGE1 & MARRIAGE2 & MARRIAGE3\\\\\n",
       "\t\\hline\n",
       "\t& Int64 & Int64 & Int64 & Int64\\\\\n",
       "\t\\hline\n",
       "\t1 & 1 & 1 & 0 & 0 \\\\\n",
       "\t2 & 2 & 0 & 1 & 0 \\\\\n",
       "\t3 & 3 & 0 & 0 & 1 \\\\\n",
       "\\end{tabular}\n"
      ],
      "text/plain": [
       "3×4 DataFrame\n",
       "│ Row │ keys  │ MARRIAGE1 │ MARRIAGE2 │ MARRIAGE3 │\n",
       "│     │ \u001b[90mInt64\u001b[39m │ \u001b[90mInt64\u001b[39m     │ \u001b[90mInt64\u001b[39m     │ \u001b[90mInt64\u001b[39m     │\n",
       "├─────┼───────┼───────────┼───────────┼───────────┤\n",
       "│ 1   │ 1     │ 1         │ 0         │ 0         │\n",
       "│ 2   │ 2     │ 0         │ 1         │ 0         │\n",
       "│ 3   │ 3     │ 0         │ 0         │ 1         │"
      ]
     },
     "execution_count": 13,
     "metadata": {},
     "output_type": "execute_result"
    }
   ],
   "source": [
    "# Marriage variable\n",
    "marriage = Vector(cc[:MARRIAGE])\n",
    "lab = :MARRIAGE\n",
    "M2 = OneHot(marriage, lab)\n",
    "M2"
   ]
  },
  {
   "cell_type": "markdown",
   "metadata": {},
   "source": [
    "#### Adding back into the dataframe"
   ]
  },
  {
   "cell_type": "code",
   "execution_count": 14,
   "metadata": {},
   "outputs": [
    {
     "name": "stdout",
     "output_type": "stream",
     "text": [
      "30×8 DataFrame\n",
      "│ Row │ variable                   │ mean      │ min       │ median   │ max       │ nunique │ nmissing │ eltype   │\n",
      "│     │ \u001b[90mSymbol\u001b[39m                     │ \u001b[90mFloat64\u001b[39m   │ \u001b[90mReal\u001b[39m      │ \u001b[90mFloat64\u001b[39m  │ \u001b[90mReal\u001b[39m      │ \u001b[90mNothing\u001b[39m │ \u001b[90mNothing\u001b[39m  │ \u001b[90mDataType\u001b[39m │\n",
      "├─────┼────────────────────────────┼───────────┼───────────┼──────────┼───────────┼─────────┼──────────┼──────────┤\n",
      "│ 1   │ ID                         │ 15000.5   │ 1         │ 15000.5  │ 30000     │         │          │ Int64    │\n",
      "│ 2   │ LIMIT_BAL                  │ 1.67484e5 │ 10000.0   │ 140000.0 │ 1.0e6     │         │          │ Float64  │\n",
      "│ 3   │ SEX                        │ 0.603733  │ 0         │ 1.0      │ 1         │         │          │ Int64    │\n",
      "│ 4   │ EDUCATION                  │ 1.85377   │ 1         │ 2.0      │ 5         │         │          │ Int64    │\n",
      "│ 5   │ MARRIAGE                   │ 1.55727   │ 1         │ 2.0      │ 3         │         │          │ Int64    │\n",
      "│ 6   │ AGE                        │ 35.4855   │ 21        │ 34.0     │ 79        │         │          │ Int64    │\n",
      "│ 7   │ PAY_0                      │ 0.356767  │ 0         │ 0.0      │ 8         │         │          │ Int64    │\n",
      "│ 8   │ PAY_2                      │ 0.320033  │ 0         │ 0.0      │ 8         │         │          │ Int64    │\n",
      "│ 9   │ PAY_3                      │ 0.304067  │ 0         │ 0.0      │ 8         │         │          │ Int64    │\n",
      "│ 10  │ PAY_4                      │ 0.258767  │ 0         │ 0.0      │ 8         │         │          │ Int64    │\n",
      "│ 11  │ PAY_5                      │ 0.2215    │ 0         │ 0.0      │ 8         │         │          │ Int64    │\n",
      "│ 12  │ PAY_6                      │ 0.226567  │ 0         │ 0.0      │ 8         │         │          │ Int64    │\n",
      "│ 13  │ BILL_AMT1                  │ 51223.3   │ -165580.0 │ 22381.5  │ 964511.0  │         │          │ Float64  │\n",
      "│ 14  │ BILL_AMT2                  │ 49179.1   │ -69777.0  │ 21200.0  │ 983931.0  │         │          │ Float64  │\n",
      "│ 15  │ BILL_AMT3                  │ 47013.2   │ -157264.0 │ 20088.5  │ 1.66409e6 │         │          │ Float64  │\n",
      "│ 16  │ BILL_AMT4                  │ 43262.9   │ -170000.0 │ 19052.0  │ 891586.0  │         │          │ Float64  │\n",
      "│ 17  │ BILL_AMT5                  │ 40311.4   │ -81334.0  │ 18104.5  │ 927171.0  │         │          │ Float64  │\n",
      "│ 18  │ BILL_AMT6                  │ 38871.8   │ -339603.0 │ 17071.0  │ 961664.0  │         │          │ Float64  │\n",
      "│ 19  │ PAY_AMT1                   │ 5663.58   │ 0.0       │ 2100.0   │ 873552.0  │         │          │ Float64  │\n",
      "│ 20  │ PAY_AMT2                   │ 5921.16   │ 0.0       │ 2009.0   │ 1.68426e6 │         │          │ Float64  │\n",
      "│ 21  │ PAY_AMT3                   │ 5225.68   │ 0.0       │ 1800.0   │ 896040.0  │         │          │ Float64  │\n",
      "│ 22  │ PAY_AMT4                   │ 4826.08   │ 0.0       │ 1500.0   │ 621000.0  │         │          │ Float64  │\n",
      "│ 23  │ PAY_AMT5                   │ 4799.39   │ 0.0       │ 1500.0   │ 426529.0  │         │          │ Float64  │\n",
      "│ 24  │ PAY_AMT6                   │ 5215.5    │ 0.0       │ 1500.0   │ 528666.0  │         │          │ Float64  │\n",
      "│ 25  │ default.payment.next.month │ 0.2212    │ 0         │ 0.0      │ 1         │         │          │ Int64    │\n",
      "│ 26  │ EDUCATION1                 │ 0.352833  │ 0         │ 0.0      │ 1         │         │          │ Int64    │\n",
      "│ 27  │ EDUCATION2                 │ 0.467667  │ 0         │ 0.0      │ 1         │         │          │ Int64    │\n",
      "│ 28  │ EDUCATION3                 │ 0.1639    │ 0         │ 0.0      │ 1         │         │          │ Int64    │\n",
      "│ 29  │ EDUCATION4                 │ 0.0041    │ 0         │ 0.0      │ 1         │         │          │ Int64    │\n",
      "│ 30  │ EDUCATION5                 │ 0.0115    │ 0         │ 0.0      │ 1         │         │          │ Int64    │\n"
     ]
    }
   ],
   "source": [
    "cc = join(cc, M1, on = :EDUCATION => :keys)\n",
    "\n",
    "println(describe(cc))"
   ]
  },
  {
   "cell_type": "code",
   "execution_count": 15,
   "metadata": {},
   "outputs": [
    {
     "name": "stdout",
     "output_type": "stream",
     "text": [
      "33×8 DataFrame\n",
      "│ Row │ variable                   │ mean      │ min       │ median   │ max       │ nunique │ nmissing │ eltype   │\n",
      "│     │ \u001b[90mSymbol\u001b[39m                     │ \u001b[90mFloat64\u001b[39m   │ \u001b[90mReal\u001b[39m      │ \u001b[90mFloat64\u001b[39m  │ \u001b[90mReal\u001b[39m      │ \u001b[90mNothing\u001b[39m │ \u001b[90mNothing\u001b[39m  │ \u001b[90mDataType\u001b[39m │\n",
      "├─────┼────────────────────────────┼───────────┼───────────┼──────────┼───────────┼─────────┼──────────┼──────────┤\n",
      "│ 1   │ ID                         │ 15000.5   │ 1         │ 15000.5  │ 30000     │         │          │ Int64    │\n",
      "│ 2   │ LIMIT_BAL                  │ 1.67484e5 │ 10000.0   │ 140000.0 │ 1.0e6     │         │          │ Float64  │\n",
      "│ 3   │ SEX                        │ 0.603733  │ 0         │ 1.0      │ 1         │         │          │ Int64    │\n",
      "│ 4   │ EDUCATION                  │ 1.85377   │ 1         │ 2.0      │ 5         │         │          │ Int64    │\n",
      "│ 5   │ MARRIAGE                   │ 1.55727   │ 1         │ 2.0      │ 3         │         │          │ Int64    │\n",
      "│ 6   │ AGE                        │ 35.4855   │ 21        │ 34.0     │ 79        │         │          │ Int64    │\n",
      "│ 7   │ PAY_0                      │ 0.356767  │ 0         │ 0.0      │ 8         │         │          │ Int64    │\n",
      "│ 8   │ PAY_2                      │ 0.320033  │ 0         │ 0.0      │ 8         │         │          │ Int64    │\n",
      "│ 9   │ PAY_3                      │ 0.304067  │ 0         │ 0.0      │ 8         │         │          │ Int64    │\n",
      "│ 10  │ PAY_4                      │ 0.258767  │ 0         │ 0.0      │ 8         │         │          │ Int64    │\n",
      "│ 11  │ PAY_5                      │ 0.2215    │ 0         │ 0.0      │ 8         │         │          │ Int64    │\n",
      "│ 12  │ PAY_6                      │ 0.226567  │ 0         │ 0.0      │ 8         │         │          │ Int64    │\n",
      "│ 13  │ BILL_AMT1                  │ 51223.3   │ -165580.0 │ 22381.5  │ 964511.0  │         │          │ Float64  │\n",
      "│ 14  │ BILL_AMT2                  │ 49179.1   │ -69777.0  │ 21200.0  │ 983931.0  │         │          │ Float64  │\n",
      "│ 15  │ BILL_AMT3                  │ 47013.2   │ -157264.0 │ 20088.5  │ 1.66409e6 │         │          │ Float64  │\n",
      "│ 16  │ BILL_AMT4                  │ 43262.9   │ -170000.0 │ 19052.0  │ 891586.0  │         │          │ Float64  │\n",
      "│ 17  │ BILL_AMT5                  │ 40311.4   │ -81334.0  │ 18104.5  │ 927171.0  │         │          │ Float64  │\n",
      "│ 18  │ BILL_AMT6                  │ 38871.8   │ -339603.0 │ 17071.0  │ 961664.0  │         │          │ Float64  │\n",
      "│ 19  │ PAY_AMT1                   │ 5663.58   │ 0.0       │ 2100.0   │ 873552.0  │         │          │ Float64  │\n",
      "│ 20  │ PAY_AMT2                   │ 5921.16   │ 0.0       │ 2009.0   │ 1.68426e6 │         │          │ Float64  │\n",
      "│ 21  │ PAY_AMT3                   │ 5225.68   │ 0.0       │ 1800.0   │ 896040.0  │         │          │ Float64  │\n",
      "│ 22  │ PAY_AMT4                   │ 4826.08   │ 0.0       │ 1500.0   │ 621000.0  │         │          │ Float64  │\n",
      "│ 23  │ PAY_AMT5                   │ 4799.39   │ 0.0       │ 1500.0   │ 426529.0  │         │          │ Float64  │\n",
      "│ 24  │ PAY_AMT6                   │ 5215.5    │ 0.0       │ 1500.0   │ 528666.0  │         │          │ Float64  │\n",
      "│ 25  │ default.payment.next.month │ 0.2212    │ 0         │ 0.0      │ 1         │         │          │ Int64    │\n",
      "│ 26  │ EDUCATION1                 │ 0.352833  │ 0         │ 0.0      │ 1         │         │          │ Int64    │\n",
      "│ 27  │ EDUCATION2                 │ 0.467667  │ 0         │ 0.0      │ 1         │         │          │ Int64    │\n",
      "│ 28  │ EDUCATION3                 │ 0.1639    │ 0         │ 0.0      │ 1         │         │          │ Int64    │\n",
      "│ 29  │ EDUCATION4                 │ 0.0041    │ 0         │ 0.0      │ 1         │         │          │ Int64    │\n",
      "│ 30  │ EDUCATION5                 │ 0.0115    │ 0         │ 0.0      │ 1         │         │          │ Int64    │\n",
      "│ 31  │ MARRIAGE1                  │ 0.4553    │ 0         │ 0.0      │ 1         │         │          │ Int64    │\n",
      "│ 32  │ MARRIAGE2                  │ 0.532133  │ 0         │ 1.0      │ 1         │         │          │ Int64    │\n",
      "│ 33  │ MARRIAGE3                  │ 0.0125667 │ 0         │ 0.0      │ 1         │         │          │ Int64    │\n"
     ]
    }
   ],
   "source": [
    "cc = join(cc, M2, on = :MARRIAGE => :keys)\n",
    "\n",
    "println(describe(cc))"
   ]
  },
  {
   "cell_type": "markdown",
   "metadata": {},
   "source": [
    "#### Dropping & Re-ordering Columns\n",
    "\n",
    "By dropping the columns `EDUCATION1`, `MARRIAGE1` the reference group becomes \"Male, Grad School, Married\"."
   ]
  },
  {
   "cell_type": "code",
   "execution_count": 16,
   "metadata": {},
   "outputs": [
    {
     "name": "stderr",
     "output_type": "stream",
     "text": [
      "┌ Warning: `getindex(df::DataFrame, col_inds::Union{AbstractVector, Regex, Not})` is deprecated, use `df[:, col_inds]` instead.\n",
      "│   caller = top-level scope at In[16]:30\n",
      "└ @ Core In[16]:30\n"
     ]
    },
    {
     "data": {
      "text/html": [
       "<table class=\"data-frame\"><thead><tr><th></th><th>ID</th><th>LIMIT_BAL</th><th>SEX</th><th>AGE</th><th>EDUCATION2</th><th>EDUCATION3</th><th>EDUCATION4</th><th>EDUCATION5</th></tr><tr><th></th><th>Int64</th><th>Float64</th><th>Int64</th><th>Int64</th><th>Int64</th><th>Int64</th><th>Int64</th><th>Int64</th></tr></thead><tbody><p>30,000 rows × 29 columns (omitted printing of 21 columns)</p><tr><th>1</th><td>1</td><td>20000.0</td><td>1</td><td>24</td><td>1</td><td>0</td><td>0</td><td>0</td></tr><tr><th>2</th><td>2</td><td>120000.0</td><td>1</td><td>26</td><td>1</td><td>0</td><td>0</td><td>0</td></tr><tr><th>3</th><td>3</td><td>90000.0</td><td>1</td><td>34</td><td>1</td><td>0</td><td>0</td><td>0</td></tr><tr><th>4</th><td>4</td><td>50000.0</td><td>1</td><td>37</td><td>1</td><td>0</td><td>0</td><td>0</td></tr><tr><th>5</th><td>5</td><td>50000.0</td><td>0</td><td>57</td><td>1</td><td>0</td><td>0</td><td>0</td></tr><tr><th>6</th><td>6</td><td>50000.0</td><td>0</td><td>37</td><td>0</td><td>0</td><td>0</td><td>0</td></tr><tr><th>7</th><td>7</td><td>500000.0</td><td>0</td><td>29</td><td>0</td><td>0</td><td>0</td><td>0</td></tr><tr><th>8</th><td>8</td><td>100000.0</td><td>1</td><td>23</td><td>1</td><td>0</td><td>0</td><td>0</td></tr><tr><th>9</th><td>9</td><td>140000.0</td><td>1</td><td>28</td><td>0</td><td>1</td><td>0</td><td>0</td></tr><tr><th>10</th><td>10</td><td>20000.0</td><td>0</td><td>35</td><td>0</td><td>1</td><td>0</td><td>0</td></tr><tr><th>11</th><td>11</td><td>200000.0</td><td>1</td><td>34</td><td>0</td><td>1</td><td>0</td><td>0</td></tr><tr><th>12</th><td>12</td><td>260000.0</td><td>1</td><td>51</td><td>0</td><td>0</td><td>0</td><td>0</td></tr><tr><th>13</th><td>13</td><td>630000.0</td><td>1</td><td>41</td><td>1</td><td>0</td><td>0</td><td>0</td></tr><tr><th>14</th><td>14</td><td>70000.0</td><td>0</td><td>30</td><td>1</td><td>0</td><td>0</td><td>0</td></tr><tr><th>15</th><td>15</td><td>250000.0</td><td>0</td><td>29</td><td>0</td><td>0</td><td>0</td><td>0</td></tr><tr><th>16</th><td>16</td><td>50000.0</td><td>1</td><td>23</td><td>0</td><td>1</td><td>0</td><td>0</td></tr><tr><th>17</th><td>17</td><td>20000.0</td><td>0</td><td>24</td><td>0</td><td>0</td><td>0</td><td>0</td></tr><tr><th>18</th><td>18</td><td>320000.0</td><td>0</td><td>49</td><td>0</td><td>0</td><td>0</td><td>0</td></tr><tr><th>19</th><td>19</td><td>360000.0</td><td>1</td><td>49</td><td>0</td><td>0</td><td>0</td><td>0</td></tr><tr><th>20</th><td>20</td><td>180000.0</td><td>1</td><td>29</td><td>0</td><td>0</td><td>0</td><td>0</td></tr><tr><th>21</th><td>21</td><td>130000.0</td><td>1</td><td>39</td><td>0</td><td>1</td><td>0</td><td>0</td></tr><tr><th>22</th><td>22</td><td>120000.0</td><td>1</td><td>39</td><td>1</td><td>0</td><td>0</td><td>0</td></tr><tr><th>23</th><td>23</td><td>70000.0</td><td>1</td><td>26</td><td>1</td><td>0</td><td>0</td><td>0</td></tr><tr><th>24</th><td>24</td><td>450000.0</td><td>1</td><td>40</td><td>0</td><td>0</td><td>0</td><td>0</td></tr><tr><th>25</th><td>25</td><td>90000.0</td><td>0</td><td>23</td><td>0</td><td>0</td><td>0</td><td>0</td></tr><tr><th>26</th><td>26</td><td>50000.0</td><td>0</td><td>23</td><td>0</td><td>1</td><td>0</td><td>0</td></tr><tr><th>27</th><td>27</td><td>60000.0</td><td>0</td><td>27</td><td>0</td><td>0</td><td>0</td><td>0</td></tr><tr><th>28</th><td>28</td><td>50000.0</td><td>1</td><td>30</td><td>0</td><td>1</td><td>0</td><td>0</td></tr><tr><th>29</th><td>29</td><td>50000.0</td><td>1</td><td>47</td><td>0</td><td>1</td><td>0</td><td>0</td></tr><tr><th>30</th><td>30</td><td>50000.0</td><td>0</td><td>26</td><td>0</td><td>0</td><td>0</td><td>0</td></tr><tr><th>&vellip;</th><td>&vellip;</td><td>&vellip;</td><td>&vellip;</td><td>&vellip;</td><td>&vellip;</td><td>&vellip;</td><td>&vellip;</td><td>&vellip;</td></tr></tbody></table>"
      ],
      "text/latex": [
       "\\begin{tabular}{r|ccccccccc}\n",
       "\t& ID & LIMIT\\_BAL & SEX & AGE & EDUCATION2 & EDUCATION3 & EDUCATION4 & EDUCATION5 & \\\\\n",
       "\t\\hline\n",
       "\t& Int64 & Float64 & Int64 & Int64 & Int64 & Int64 & Int64 & Int64 & \\\\\n",
       "\t\\hline\n",
       "\t1 & 1 & 20000.0 & 1 & 24 & 1 & 0 & 0 & 0 & $\\dots$ \\\\\n",
       "\t2 & 2 & 120000.0 & 1 & 26 & 1 & 0 & 0 & 0 & $\\dots$ \\\\\n",
       "\t3 & 3 & 90000.0 & 1 & 34 & 1 & 0 & 0 & 0 & $\\dots$ \\\\\n",
       "\t4 & 4 & 50000.0 & 1 & 37 & 1 & 0 & 0 & 0 & $\\dots$ \\\\\n",
       "\t5 & 5 & 50000.0 & 0 & 57 & 1 & 0 & 0 & 0 & $\\dots$ \\\\\n",
       "\t6 & 6 & 50000.0 & 0 & 37 & 0 & 0 & 0 & 0 & $\\dots$ \\\\\n",
       "\t7 & 7 & 500000.0 & 0 & 29 & 0 & 0 & 0 & 0 & $\\dots$ \\\\\n",
       "\t8 & 8 & 100000.0 & 1 & 23 & 1 & 0 & 0 & 0 & $\\dots$ \\\\\n",
       "\t9 & 9 & 140000.0 & 1 & 28 & 0 & 1 & 0 & 0 & $\\dots$ \\\\\n",
       "\t10 & 10 & 20000.0 & 0 & 35 & 0 & 1 & 0 & 0 & $\\dots$ \\\\\n",
       "\t11 & 11 & 200000.0 & 1 & 34 & 0 & 1 & 0 & 0 & $\\dots$ \\\\\n",
       "\t12 & 12 & 260000.0 & 1 & 51 & 0 & 0 & 0 & 0 & $\\dots$ \\\\\n",
       "\t13 & 13 & 630000.0 & 1 & 41 & 1 & 0 & 0 & 0 & $\\dots$ \\\\\n",
       "\t14 & 14 & 70000.0 & 0 & 30 & 1 & 0 & 0 & 0 & $\\dots$ \\\\\n",
       "\t15 & 15 & 250000.0 & 0 & 29 & 0 & 0 & 0 & 0 & $\\dots$ \\\\\n",
       "\t16 & 16 & 50000.0 & 1 & 23 & 0 & 1 & 0 & 0 & $\\dots$ \\\\\n",
       "\t17 & 17 & 20000.0 & 0 & 24 & 0 & 0 & 0 & 0 & $\\dots$ \\\\\n",
       "\t18 & 18 & 320000.0 & 0 & 49 & 0 & 0 & 0 & 0 & $\\dots$ \\\\\n",
       "\t19 & 19 & 360000.0 & 1 & 49 & 0 & 0 & 0 & 0 & $\\dots$ \\\\\n",
       "\t20 & 20 & 180000.0 & 1 & 29 & 0 & 0 & 0 & 0 & $\\dots$ \\\\\n",
       "\t21 & 21 & 130000.0 & 1 & 39 & 0 & 1 & 0 & 0 & $\\dots$ \\\\\n",
       "\t22 & 22 & 120000.0 & 1 & 39 & 1 & 0 & 0 & 0 & $\\dots$ \\\\\n",
       "\t23 & 23 & 70000.0 & 1 & 26 & 1 & 0 & 0 & 0 & $\\dots$ \\\\\n",
       "\t24 & 24 & 450000.0 & 1 & 40 & 0 & 0 & 0 & 0 & $\\dots$ \\\\\n",
       "\t25 & 25 & 90000.0 & 0 & 23 & 0 & 0 & 0 & 0 & $\\dots$ \\\\\n",
       "\t26 & 26 & 50000.0 & 0 & 23 & 0 & 1 & 0 & 0 & $\\dots$ \\\\\n",
       "\t27 & 27 & 60000.0 & 0 & 27 & 0 & 0 & 0 & 0 & $\\dots$ \\\\\n",
       "\t28 & 28 & 50000.0 & 1 & 30 & 0 & 1 & 0 & 0 & $\\dots$ \\\\\n",
       "\t29 & 29 & 50000.0 & 1 & 47 & 0 & 1 & 0 & 0 & $\\dots$ \\\\\n",
       "\t30 & 30 & 50000.0 & 0 & 26 & 0 & 0 & 0 & 0 & $\\dots$ \\\\\n",
       "\t$\\dots$ & $\\dots$ & $\\dots$ & $\\dots$ & $\\dots$ & $\\dots$ & $\\dots$ & $\\dots$ & $\\dots$ &  \\\\\n",
       "\\end{tabular}\n"
      ],
      "text/plain": [
       "30000×29 DataFrame. Omitted printing of 23 columns\n",
       "│ Row   │ ID    │ LIMIT_BAL │ SEX   │ AGE   │ EDUCATION2 │ EDUCATION3 │\n",
       "│       │ \u001b[90mInt64\u001b[39m │ \u001b[90mFloat64\u001b[39m   │ \u001b[90mInt64\u001b[39m │ \u001b[90mInt64\u001b[39m │ \u001b[90mInt64\u001b[39m      │ \u001b[90mInt64\u001b[39m      │\n",
       "├───────┼───────┼───────────┼───────┼───────┼────────────┼────────────┤\n",
       "│ 1     │ 1     │ 20000.0   │ 1     │ 24    │ 1          │ 0          │\n",
       "│ 2     │ 2     │ 120000.0  │ 1     │ 26    │ 1          │ 0          │\n",
       "│ 3     │ 3     │ 90000.0   │ 1     │ 34    │ 1          │ 0          │\n",
       "│ 4     │ 4     │ 50000.0   │ 1     │ 37    │ 1          │ 0          │\n",
       "│ 5     │ 5     │ 50000.0   │ 0     │ 57    │ 1          │ 0          │\n",
       "│ 6     │ 6     │ 50000.0   │ 0     │ 37    │ 0          │ 0          │\n",
       "│ 7     │ 7     │ 500000.0  │ 0     │ 29    │ 0          │ 0          │\n",
       "│ 8     │ 8     │ 100000.0  │ 1     │ 23    │ 1          │ 0          │\n",
       "│ 9     │ 9     │ 140000.0  │ 1     │ 28    │ 0          │ 1          │\n",
       "│ 10    │ 10    │ 20000.0   │ 0     │ 35    │ 0          │ 1          │\n",
       "⋮\n",
       "│ 29990 │ 29990 │ 150000.0  │ 0     │ 35    │ 0          │ 0          │\n",
       "│ 29991 │ 29991 │ 140000.0  │ 0     │ 41    │ 1          │ 0          │\n",
       "│ 29992 │ 29992 │ 210000.0  │ 0     │ 34    │ 1          │ 0          │\n",
       "│ 29993 │ 29993 │ 10000.0   │ 0     │ 43    │ 0          │ 1          │\n",
       "│ 29994 │ 29994 │ 100000.0  │ 0     │ 38    │ 0          │ 0          │\n",
       "│ 29995 │ 29995 │ 80000.0   │ 0     │ 34    │ 1          │ 0          │\n",
       "│ 29996 │ 29996 │ 220000.0  │ 0     │ 39    │ 0          │ 1          │\n",
       "│ 29997 │ 29997 │ 150000.0  │ 0     │ 43    │ 0          │ 1          │\n",
       "│ 29998 │ 29998 │ 30000.0   │ 0     │ 37    │ 1          │ 0          │\n",
       "│ 29999 │ 29999 │ 80000.0   │ 0     │ 41    │ 0          │ 1          │\n",
       "│ 30000 │ 30000 │ 50000.0   │ 0     │ 46    │ 1          │ 0          │"
      ]
     },
     "execution_count": 16,
     "metadata": {},
     "output_type": "execute_result"
    }
   ],
   "source": [
    "keepcols = [:ID, \n",
    "            :LIMIT_BAL, \n",
    "            :SEX,\n",
    "            :AGE,\n",
    "            :EDUCATION2,\n",
    "            :EDUCATION3,\n",
    "            :EDUCATION4,\n",
    "            :EDUCATION5,\n",
    "            :MARRIAGE2,\n",
    "            :MARRIAGE3,\n",
    "            :PAY_0,\n",
    "            :PAY_2,\n",
    "            :PAY_3,\n",
    "            :PAY_4,\n",
    "            :PAY_5,\n",
    "            :PAY_6,\n",
    "            :BILL_AMT1,\n",
    "            :BILL_AMT2,\n",
    "            :BILL_AMT3,\n",
    "            :BILL_AMT4,\n",
    "            :BILL_AMT5,\n",
    "            :BILL_AMT6,\n",
    "            :PAY_AMT1,\n",
    "            :PAY_AMT2,\n",
    "            :PAY_AMT3,\n",
    "            :PAY_AMT4,\n",
    "            :PAY_AMT5,\n",
    "            :PAY_AMT6,\n",
    "            Symbol(\"default.payment.next.month\")]\n",
    "\n",
    "cc = cc[keepcols]"
   ]
  },
  {
   "cell_type": "code",
   "execution_count": 17,
   "metadata": {},
   "outputs": [
    {
     "name": "stderr",
     "output_type": "stream",
     "text": [
      "┌ Warning: `getindex(df::DataFrame, col_ind::ColumnIndex)` is deprecated, use `df[!, col_ind]` instead.\n",
      "│   caller = top-level scope at In[17]:1\n",
      "└ @ Core In[17]:1\n",
      "┌ Warning: `setindex!(df::DataFrame, v::AbstractVector, col_ind::ColumnIndex)` is deprecated, use `begin\n",
      "│     df[!, col_ind] = v\n",
      "│     df\n",
      "│ end` instead.\n",
      "│   caller = top-level scope at In[17]:1\n",
      "└ @ Core In[17]:1\n"
     ]
    },
    {
     "data": {
      "text/plain": [
       "30000-element Array{Float64,1}:\n",
       " 24.0\n",
       " 26.0\n",
       " 34.0\n",
       " 37.0\n",
       " 57.0\n",
       " 37.0\n",
       " 29.0\n",
       " 23.0\n",
       " 28.0\n",
       " 35.0\n",
       " 34.0\n",
       " 51.0\n",
       " 41.0\n",
       "  ⋮  \n",
       " 34.0\n",
       " 35.0\n",
       " 41.0\n",
       " 34.0\n",
       " 43.0\n",
       " 38.0\n",
       " 34.0\n",
       " 39.0\n",
       " 43.0\n",
       " 37.0\n",
       " 41.0\n",
       " 46.0"
      ]
     },
     "execution_count": 17,
     "metadata": {},
     "output_type": "execute_result"
    }
   ],
   "source": [
    "cc[:AGE] = Float64.(cc[:AGE])"
   ]
  },
  {
   "cell_type": "markdown",
   "metadata": {},
   "source": [
    "## Train & Test Splitting\n",
    "\n",
    "To make stuff easier later, I split the dataframe into training and test sets, and write them to two separate CSV's"
   ]
  },
  {
   "cell_type": "code",
   "execution_count": 18,
   "metadata": {},
   "outputs": [
    {
     "data": {
      "text/plain": [
       "21000-element Array{Int64,1}:\n",
       "  1955\n",
       " 17385\n",
       "  2966\n",
       " 14246\n",
       " 28096\n",
       " 19513\n",
       " 20251\n",
       " 17299\n",
       " 26655\n",
       " 19718\n",
       " 25816\n",
       " 11153\n",
       " 16288\n",
       "     ⋮\n",
       " 28824\n",
       " 18331\n",
       " 22009\n",
       "  3855\n",
       " 26345\n",
       "  6860\n",
       "  9088\n",
       " 10690\n",
       " 17626\n",
       " 20542\n",
       " 19357\n",
       " 26915"
      ]
     },
     "execution_count": 18,
     "metadata": {},
     "output_type": "execute_result"
    }
   ],
   "source": [
    "N = size(cc)[1]\n",
    "inds  = 1:N\n",
    "test  = sample(inds, Int(0.30*N), replace=false)\n",
    "train = setdiff(inds, test)\n",
    "shuffle!(train)"
   ]
  },
  {
   "cell_type": "code",
   "execution_count": 19,
   "metadata": {},
   "outputs": [
    {
     "data": {
      "text/plain": [
       "true"
      ]
     },
     "execution_count": 19,
     "metadata": {},
     "output_type": "execute_result"
    }
   ],
   "source": [
    "Set(∪(test, train)) == Set(inds)"
   ]
  },
  {
   "cell_type": "code",
   "execution_count": 20,
   "metadata": {},
   "outputs": [
    {
     "data": {
      "text/html": [
       "<table class=\"data-frame\"><thead><tr><th></th><th>ID</th><th>LIMIT_BAL</th><th>SEX</th><th>AGE</th><th>EDUCATION2</th><th>EDUCATION3</th><th>EDUCATION4</th><th>EDUCATION5</th></tr><tr><th></th><th>Int64</th><th>Float64</th><th>Int64</th><th>Float64</th><th>Int64</th><th>Int64</th><th>Int64</th><th>Int64</th></tr></thead><tbody><p>21,000 rows × 29 columns (omitted printing of 21 columns)</p><tr><th>1</th><td>1955</td><td>240000.0</td><td>1</td><td>41.0</td><td>1</td><td>0</td><td>0</td><td>0</td></tr><tr><th>2</th><td>17385</td><td>180000.0</td><td>1</td><td>33.0</td><td>0</td><td>0</td><td>0</td><td>0</td></tr><tr><th>3</th><td>2966</td><td>50000.0</td><td>1</td><td>33.0</td><td>1</td><td>0</td><td>0</td><td>0</td></tr><tr><th>4</th><td>14246</td><td>210000.0</td><td>1</td><td>36.0</td><td>1</td><td>0</td><td>0</td><td>0</td></tr><tr><th>5</th><td>28096</td><td>150000.0</td><td>1</td><td>41.0</td><td>1</td><td>0</td><td>0</td><td>0</td></tr><tr><th>6</th><td>19513</td><td>260000.0</td><td>1</td><td>31.0</td><td>0</td><td>0</td><td>0</td><td>0</td></tr><tr><th>7</th><td>20251</td><td>100000.0</td><td>1</td><td>52.0</td><td>1</td><td>0</td><td>0</td><td>0</td></tr><tr><th>8</th><td>17299</td><td>150000.0</td><td>1</td><td>34.0</td><td>1</td><td>0</td><td>0</td><td>0</td></tr><tr><th>9</th><td>26655</td><td>50000.0</td><td>0</td><td>24.0</td><td>0</td><td>0</td><td>0</td><td>0</td></tr><tr><th>10</th><td>19718</td><td>280000.0</td><td>1</td><td>35.0</td><td>0</td><td>1</td><td>0</td><td>0</td></tr><tr><th>11</th><td>25816</td><td>350000.0</td><td>1</td><td>47.0</td><td>1</td><td>0</td><td>0</td><td>0</td></tr><tr><th>12</th><td>11153</td><td>500000.0</td><td>0</td><td>33.0</td><td>0</td><td>0</td><td>0</td><td>0</td></tr><tr><th>13</th><td>16288</td><td>50000.0</td><td>1</td><td>35.0</td><td>1</td><td>0</td><td>0</td><td>0</td></tr><tr><th>14</th><td>18872</td><td>80000.0</td><td>1</td><td>27.0</td><td>0</td><td>1</td><td>0</td><td>0</td></tr><tr><th>15</th><td>3019</td><td>20000.0</td><td>0</td><td>34.0</td><td>0</td><td>0</td><td>0</td><td>0</td></tr><tr><th>16</th><td>2470</td><td>170000.0</td><td>1</td><td>26.0</td><td>1</td><td>0</td><td>0</td><td>0</td></tr><tr><th>17</th><td>16797</td><td>20000.0</td><td>0</td><td>34.0</td><td>1</td><td>0</td><td>0</td><td>0</td></tr><tr><th>18</th><td>20902</td><td>130000.0</td><td>0</td><td>30.0</td><td>1</td><td>0</td><td>0</td><td>0</td></tr><tr><th>19</th><td>4314</td><td>50000.0</td><td>1</td><td>28.0</td><td>1</td><td>0</td><td>0</td><td>0</td></tr><tr><th>20</th><td>26822</td><td>110000.0</td><td>0</td><td>29.0</td><td>0</td><td>0</td><td>0</td><td>0</td></tr><tr><th>21</th><td>7705</td><td>200000.0</td><td>0</td><td>38.0</td><td>0</td><td>0</td><td>0</td><td>0</td></tr><tr><th>22</th><td>10134</td><td>40000.0</td><td>1</td><td>45.0</td><td>1</td><td>0</td><td>0</td><td>0</td></tr><tr><th>23</th><td>9022</td><td>170000.0</td><td>1</td><td>51.0</td><td>0</td><td>0</td><td>0</td><td>0</td></tr><tr><th>24</th><td>10423</td><td>200000.0</td><td>1</td><td>35.0</td><td>0</td><td>0</td><td>0</td><td>0</td></tr><tr><th>25</th><td>5447</td><td>20000.0</td><td>1</td><td>36.0</td><td>0</td><td>1</td><td>0</td><td>0</td></tr><tr><th>26</th><td>10986</td><td>140000.0</td><td>1</td><td>38.0</td><td>1</td><td>0</td><td>0</td><td>0</td></tr><tr><th>27</th><td>22157</td><td>230000.0</td><td>1</td><td>30.0</td><td>0</td><td>0</td><td>0</td><td>0</td></tr><tr><th>28</th><td>15545</td><td>20000.0</td><td>0</td><td>32.0</td><td>0</td><td>0</td><td>0</td><td>0</td></tr><tr><th>29</th><td>23091</td><td>240000.0</td><td>1</td><td>41.0</td><td>1</td><td>0</td><td>0</td><td>0</td></tr><tr><th>30</th><td>20548</td><td>50000.0</td><td>0</td><td>27.0</td><td>0</td><td>0</td><td>0</td><td>0</td></tr><tr><th>&vellip;</th><td>&vellip;</td><td>&vellip;</td><td>&vellip;</td><td>&vellip;</td><td>&vellip;</td><td>&vellip;</td><td>&vellip;</td><td>&vellip;</td></tr></tbody></table>"
      ],
      "text/latex": [
       "\\begin{tabular}{r|ccccccccc}\n",
       "\t& ID & LIMIT\\_BAL & SEX & AGE & EDUCATION2 & EDUCATION3 & EDUCATION4 & EDUCATION5 & \\\\\n",
       "\t\\hline\n",
       "\t& Int64 & Float64 & Int64 & Float64 & Int64 & Int64 & Int64 & Int64 & \\\\\n",
       "\t\\hline\n",
       "\t1 & 1955 & 240000.0 & 1 & 41.0 & 1 & 0 & 0 & 0 & $\\dots$ \\\\\n",
       "\t2 & 17385 & 180000.0 & 1 & 33.0 & 0 & 0 & 0 & 0 & $\\dots$ \\\\\n",
       "\t3 & 2966 & 50000.0 & 1 & 33.0 & 1 & 0 & 0 & 0 & $\\dots$ \\\\\n",
       "\t4 & 14246 & 210000.0 & 1 & 36.0 & 1 & 0 & 0 & 0 & $\\dots$ \\\\\n",
       "\t5 & 28096 & 150000.0 & 1 & 41.0 & 1 & 0 & 0 & 0 & $\\dots$ \\\\\n",
       "\t6 & 19513 & 260000.0 & 1 & 31.0 & 0 & 0 & 0 & 0 & $\\dots$ \\\\\n",
       "\t7 & 20251 & 100000.0 & 1 & 52.0 & 1 & 0 & 0 & 0 & $\\dots$ \\\\\n",
       "\t8 & 17299 & 150000.0 & 1 & 34.0 & 1 & 0 & 0 & 0 & $\\dots$ \\\\\n",
       "\t9 & 26655 & 50000.0 & 0 & 24.0 & 0 & 0 & 0 & 0 & $\\dots$ \\\\\n",
       "\t10 & 19718 & 280000.0 & 1 & 35.0 & 0 & 1 & 0 & 0 & $\\dots$ \\\\\n",
       "\t11 & 25816 & 350000.0 & 1 & 47.0 & 1 & 0 & 0 & 0 & $\\dots$ \\\\\n",
       "\t12 & 11153 & 500000.0 & 0 & 33.0 & 0 & 0 & 0 & 0 & $\\dots$ \\\\\n",
       "\t13 & 16288 & 50000.0 & 1 & 35.0 & 1 & 0 & 0 & 0 & $\\dots$ \\\\\n",
       "\t14 & 18872 & 80000.0 & 1 & 27.0 & 0 & 1 & 0 & 0 & $\\dots$ \\\\\n",
       "\t15 & 3019 & 20000.0 & 0 & 34.0 & 0 & 0 & 0 & 0 & $\\dots$ \\\\\n",
       "\t16 & 2470 & 170000.0 & 1 & 26.0 & 1 & 0 & 0 & 0 & $\\dots$ \\\\\n",
       "\t17 & 16797 & 20000.0 & 0 & 34.0 & 1 & 0 & 0 & 0 & $\\dots$ \\\\\n",
       "\t18 & 20902 & 130000.0 & 0 & 30.0 & 1 & 0 & 0 & 0 & $\\dots$ \\\\\n",
       "\t19 & 4314 & 50000.0 & 1 & 28.0 & 1 & 0 & 0 & 0 & $\\dots$ \\\\\n",
       "\t20 & 26822 & 110000.0 & 0 & 29.0 & 0 & 0 & 0 & 0 & $\\dots$ \\\\\n",
       "\t21 & 7705 & 200000.0 & 0 & 38.0 & 0 & 0 & 0 & 0 & $\\dots$ \\\\\n",
       "\t22 & 10134 & 40000.0 & 1 & 45.0 & 1 & 0 & 0 & 0 & $\\dots$ \\\\\n",
       "\t23 & 9022 & 170000.0 & 1 & 51.0 & 0 & 0 & 0 & 0 & $\\dots$ \\\\\n",
       "\t24 & 10423 & 200000.0 & 1 & 35.0 & 0 & 0 & 0 & 0 & $\\dots$ \\\\\n",
       "\t25 & 5447 & 20000.0 & 1 & 36.0 & 0 & 1 & 0 & 0 & $\\dots$ \\\\\n",
       "\t26 & 10986 & 140000.0 & 1 & 38.0 & 1 & 0 & 0 & 0 & $\\dots$ \\\\\n",
       "\t27 & 22157 & 230000.0 & 1 & 30.0 & 0 & 0 & 0 & 0 & $\\dots$ \\\\\n",
       "\t28 & 15545 & 20000.0 & 0 & 32.0 & 0 & 0 & 0 & 0 & $\\dots$ \\\\\n",
       "\t29 & 23091 & 240000.0 & 1 & 41.0 & 1 & 0 & 0 & 0 & $\\dots$ \\\\\n",
       "\t30 & 20548 & 50000.0 & 0 & 27.0 & 0 & 0 & 0 & 0 & $\\dots$ \\\\\n",
       "\t$\\dots$ & $\\dots$ & $\\dots$ & $\\dots$ & $\\dots$ & $\\dots$ & $\\dots$ & $\\dots$ & $\\dots$ &  \\\\\n",
       "\\end{tabular}\n"
      ],
      "text/plain": [
       "21000×29 DataFrame. Omitted printing of 23 columns\n",
       "│ Row   │ ID    │ LIMIT_BAL │ SEX   │ AGE     │ EDUCATION2 │ EDUCATION3 │\n",
       "│       │ \u001b[90mInt64\u001b[39m │ \u001b[90mFloat64\u001b[39m   │ \u001b[90mInt64\u001b[39m │ \u001b[90mFloat64\u001b[39m │ \u001b[90mInt64\u001b[39m      │ \u001b[90mInt64\u001b[39m      │\n",
       "├───────┼───────┼───────────┼───────┼─────────┼────────────┼────────────┤\n",
       "│ 1     │ 1955  │ 240000.0  │ 1     │ 41.0    │ 1          │ 0          │\n",
       "│ 2     │ 17385 │ 180000.0  │ 1     │ 33.0    │ 0          │ 0          │\n",
       "│ 3     │ 2966  │ 50000.0   │ 1     │ 33.0    │ 1          │ 0          │\n",
       "│ 4     │ 14246 │ 210000.0  │ 1     │ 36.0    │ 1          │ 0          │\n",
       "│ 5     │ 28096 │ 150000.0  │ 1     │ 41.0    │ 1          │ 0          │\n",
       "│ 6     │ 19513 │ 260000.0  │ 1     │ 31.0    │ 0          │ 0          │\n",
       "│ 7     │ 20251 │ 100000.0  │ 1     │ 52.0    │ 1          │ 0          │\n",
       "│ 8     │ 17299 │ 150000.0  │ 1     │ 34.0    │ 1          │ 0          │\n",
       "│ 9     │ 26655 │ 50000.0   │ 0     │ 24.0    │ 0          │ 0          │\n",
       "│ 10    │ 19718 │ 280000.0  │ 1     │ 35.0    │ 0          │ 1          │\n",
       "⋮\n",
       "│ 20990 │ 18331 │ 120000.0  │ 1     │ 23.0    │ 1          │ 0          │\n",
       "│ 20991 │ 22009 │ 230000.0  │ 1     │ 28.0    │ 1          │ 0          │\n",
       "│ 20992 │ 3855  │ 110000.0  │ 1     │ 32.0    │ 1          │ 0          │\n",
       "│ 20993 │ 26345 │ 180000.0  │ 1     │ 29.0    │ 0          │ 0          │\n",
       "│ 20994 │ 6860  │ 100000.0  │ 0     │ 32.0    │ 0          │ 0          │\n",
       "│ 20995 │ 9088  │ 240000.0  │ 1     │ 45.0    │ 1          │ 0          │\n",
       "│ 20996 │ 10690 │ 50000.0   │ 1     │ 27.0    │ 0          │ 0          │\n",
       "│ 20997 │ 17626 │ 140000.0  │ 1     │ 33.0    │ 0          │ 0          │\n",
       "│ 20998 │ 20542 │ 50000.0   │ 0     │ 27.0    │ 1          │ 0          │\n",
       "│ 20999 │ 19357 │ 270000.0  │ 1     │ 41.0    │ 0          │ 0          │\n",
       "│ 21000 │ 26915 │ 150000.0  │ 0     │ 36.0    │ 1          │ 0          │"
      ]
     },
     "execution_count": 20,
     "metadata": {},
     "output_type": "execute_result"
    }
   ],
   "source": [
    "Xytrain = cc[train, :]"
   ]
  },
  {
   "cell_type": "code",
   "execution_count": 21,
   "metadata": {},
   "outputs": [
    {
     "data": {
      "text/html": [
       "<table class=\"data-frame\"><thead><tr><th></th><th>ID</th><th>LIMIT_BAL</th><th>SEX</th><th>AGE</th><th>EDUCATION2</th><th>EDUCATION3</th><th>EDUCATION4</th><th>EDUCATION5</th></tr><tr><th></th><th>Int64</th><th>Float64</th><th>Int64</th><th>Float64</th><th>Int64</th><th>Int64</th><th>Int64</th><th>Int64</th></tr></thead><tbody><p>9,000 rows × 29 columns (omitted printing of 21 columns)</p><tr><th>1</th><td>11338</td><td>120000.0</td><td>0</td><td>38.0</td><td>0</td><td>0</td><td>0</td><td>0</td></tr><tr><th>2</th><td>5156</td><td>80000.0</td><td>0</td><td>27.0</td><td>1</td><td>0</td><td>0</td><td>0</td></tr><tr><th>3</th><td>4811</td><td>300000.0</td><td>1</td><td>31.0</td><td>0</td><td>0</td><td>0</td><td>0</td></tr><tr><th>4</th><td>19155</td><td>230000.0</td><td>1</td><td>37.0</td><td>1</td><td>0</td><td>0</td><td>0</td></tr><tr><th>5</th><td>2535</td><td>50000.0</td><td>0</td><td>26.0</td><td>1</td><td>0</td><td>0</td><td>0</td></tr><tr><th>6</th><td>13735</td><td>60000.0</td><td>1</td><td>46.0</td><td>1</td><td>0</td><td>0</td><td>0</td></tr><tr><th>7</th><td>24672</td><td>390000.0</td><td>0</td><td>34.0</td><td>1</td><td>0</td><td>0</td><td>0</td></tr><tr><th>8</th><td>6365</td><td>30000.0</td><td>1</td><td>59.0</td><td>0</td><td>1</td><td>0</td><td>0</td></tr><tr><th>9</th><td>6288</td><td>200000.0</td><td>1</td><td>33.0</td><td>0</td><td>0</td><td>0</td><td>0</td></tr><tr><th>10</th><td>7573</td><td>40000.0</td><td>0</td><td>37.0</td><td>1</td><td>0</td><td>0</td><td>0</td></tr><tr><th>11</th><td>25042</td><td>180000.0</td><td>0</td><td>63.0</td><td>1</td><td>0</td><td>0</td><td>0</td></tr><tr><th>12</th><td>19444</td><td>280000.0</td><td>1</td><td>39.0</td><td>0</td><td>0</td><td>0</td><td>0</td></tr><tr><th>13</th><td>20562</td><td>180000.0</td><td>0</td><td>28.0</td><td>1</td><td>0</td><td>0</td><td>0</td></tr><tr><th>14</th><td>8173</td><td>500000.0</td><td>0</td><td>43.0</td><td>0</td><td>0</td><td>0</td><td>0</td></tr><tr><th>15</th><td>11605</td><td>230000.0</td><td>1</td><td>27.0</td><td>1</td><td>0</td><td>0</td><td>0</td></tr><tr><th>16</th><td>27729</td><td>90000.0</td><td>1</td><td>23.0</td><td>1</td><td>0</td><td>0</td><td>0</td></tr><tr><th>17</th><td>27886</td><td>80000.0</td><td>1</td><td>27.0</td><td>0</td><td>1</td><td>0</td><td>0</td></tr><tr><th>18</th><td>22296</td><td>130000.0</td><td>1</td><td>29.0</td><td>1</td><td>0</td><td>0</td><td>0</td></tr><tr><th>19</th><td>24014</td><td>20000.0</td><td>0</td><td>24.0</td><td>1</td><td>0</td><td>0</td><td>0</td></tr><tr><th>20</th><td>29483</td><td>10000.0</td><td>0</td><td>41.0</td><td>0</td><td>1</td><td>0</td><td>0</td></tr><tr><th>21</th><td>8246</td><td>200000.0</td><td>1</td><td>34.0</td><td>0</td><td>0</td><td>0</td><td>0</td></tr><tr><th>22</th><td>5364</td><td>500000.0</td><td>1</td><td>52.0</td><td>1</td><td>0</td><td>0</td><td>0</td></tr><tr><th>23</th><td>8143</td><td>360000.0</td><td>1</td><td>50.0</td><td>0</td><td>0</td><td>0</td><td>0</td></tr><tr><th>24</th><td>11204</td><td>200000.0</td><td>0</td><td>31.0</td><td>1</td><td>0</td><td>0</td><td>0</td></tr><tr><th>25</th><td>24784</td><td>350000.0</td><td>0</td><td>36.0</td><td>0</td><td>1</td><td>0</td><td>0</td></tr><tr><th>26</th><td>20544</td><td>160000.0</td><td>0</td><td>33.0</td><td>0</td><td>0</td><td>0</td><td>1</td></tr><tr><th>27</th><td>21449</td><td>440000.0</td><td>1</td><td>30.0</td><td>0</td><td>0</td><td>0</td><td>0</td></tr><tr><th>28</th><td>19949</td><td>390000.0</td><td>1</td><td>39.0</td><td>1</td><td>0</td><td>0</td><td>0</td></tr><tr><th>29</th><td>2125</td><td>350000.0</td><td>0</td><td>42.0</td><td>0</td><td>0</td><td>0</td><td>0</td></tr><tr><th>30</th><td>22099</td><td>200000.0</td><td>1</td><td>29.0</td><td>0</td><td>0</td><td>0</td><td>0</td></tr><tr><th>&vellip;</th><td>&vellip;</td><td>&vellip;</td><td>&vellip;</td><td>&vellip;</td><td>&vellip;</td><td>&vellip;</td><td>&vellip;</td><td>&vellip;</td></tr></tbody></table>"
      ],
      "text/latex": [
       "\\begin{tabular}{r|ccccccccc}\n",
       "\t& ID & LIMIT\\_BAL & SEX & AGE & EDUCATION2 & EDUCATION3 & EDUCATION4 & EDUCATION5 & \\\\\n",
       "\t\\hline\n",
       "\t& Int64 & Float64 & Int64 & Float64 & Int64 & Int64 & Int64 & Int64 & \\\\\n",
       "\t\\hline\n",
       "\t1 & 11338 & 120000.0 & 0 & 38.0 & 0 & 0 & 0 & 0 & $\\dots$ \\\\\n",
       "\t2 & 5156 & 80000.0 & 0 & 27.0 & 1 & 0 & 0 & 0 & $\\dots$ \\\\\n",
       "\t3 & 4811 & 300000.0 & 1 & 31.0 & 0 & 0 & 0 & 0 & $\\dots$ \\\\\n",
       "\t4 & 19155 & 230000.0 & 1 & 37.0 & 1 & 0 & 0 & 0 & $\\dots$ \\\\\n",
       "\t5 & 2535 & 50000.0 & 0 & 26.0 & 1 & 0 & 0 & 0 & $\\dots$ \\\\\n",
       "\t6 & 13735 & 60000.0 & 1 & 46.0 & 1 & 0 & 0 & 0 & $\\dots$ \\\\\n",
       "\t7 & 24672 & 390000.0 & 0 & 34.0 & 1 & 0 & 0 & 0 & $\\dots$ \\\\\n",
       "\t8 & 6365 & 30000.0 & 1 & 59.0 & 0 & 1 & 0 & 0 & $\\dots$ \\\\\n",
       "\t9 & 6288 & 200000.0 & 1 & 33.0 & 0 & 0 & 0 & 0 & $\\dots$ \\\\\n",
       "\t10 & 7573 & 40000.0 & 0 & 37.0 & 1 & 0 & 0 & 0 & $\\dots$ \\\\\n",
       "\t11 & 25042 & 180000.0 & 0 & 63.0 & 1 & 0 & 0 & 0 & $\\dots$ \\\\\n",
       "\t12 & 19444 & 280000.0 & 1 & 39.0 & 0 & 0 & 0 & 0 & $\\dots$ \\\\\n",
       "\t13 & 20562 & 180000.0 & 0 & 28.0 & 1 & 0 & 0 & 0 & $\\dots$ \\\\\n",
       "\t14 & 8173 & 500000.0 & 0 & 43.0 & 0 & 0 & 0 & 0 & $\\dots$ \\\\\n",
       "\t15 & 11605 & 230000.0 & 1 & 27.0 & 1 & 0 & 0 & 0 & $\\dots$ \\\\\n",
       "\t16 & 27729 & 90000.0 & 1 & 23.0 & 1 & 0 & 0 & 0 & $\\dots$ \\\\\n",
       "\t17 & 27886 & 80000.0 & 1 & 27.0 & 0 & 1 & 0 & 0 & $\\dots$ \\\\\n",
       "\t18 & 22296 & 130000.0 & 1 & 29.0 & 1 & 0 & 0 & 0 & $\\dots$ \\\\\n",
       "\t19 & 24014 & 20000.0 & 0 & 24.0 & 1 & 0 & 0 & 0 & $\\dots$ \\\\\n",
       "\t20 & 29483 & 10000.0 & 0 & 41.0 & 0 & 1 & 0 & 0 & $\\dots$ \\\\\n",
       "\t21 & 8246 & 200000.0 & 1 & 34.0 & 0 & 0 & 0 & 0 & $\\dots$ \\\\\n",
       "\t22 & 5364 & 500000.0 & 1 & 52.0 & 1 & 0 & 0 & 0 & $\\dots$ \\\\\n",
       "\t23 & 8143 & 360000.0 & 1 & 50.0 & 0 & 0 & 0 & 0 & $\\dots$ \\\\\n",
       "\t24 & 11204 & 200000.0 & 0 & 31.0 & 1 & 0 & 0 & 0 & $\\dots$ \\\\\n",
       "\t25 & 24784 & 350000.0 & 0 & 36.0 & 0 & 1 & 0 & 0 & $\\dots$ \\\\\n",
       "\t26 & 20544 & 160000.0 & 0 & 33.0 & 0 & 0 & 0 & 1 & $\\dots$ \\\\\n",
       "\t27 & 21449 & 440000.0 & 1 & 30.0 & 0 & 0 & 0 & 0 & $\\dots$ \\\\\n",
       "\t28 & 19949 & 390000.0 & 1 & 39.0 & 1 & 0 & 0 & 0 & $\\dots$ \\\\\n",
       "\t29 & 2125 & 350000.0 & 0 & 42.0 & 0 & 0 & 0 & 0 & $\\dots$ \\\\\n",
       "\t30 & 22099 & 200000.0 & 1 & 29.0 & 0 & 0 & 0 & 0 & $\\dots$ \\\\\n",
       "\t$\\dots$ & $\\dots$ & $\\dots$ & $\\dots$ & $\\dots$ & $\\dots$ & $\\dots$ & $\\dots$ & $\\dots$ &  \\\\\n",
       "\\end{tabular}\n"
      ],
      "text/plain": [
       "9000×29 DataFrame. Omitted printing of 23 columns\n",
       "│ Row  │ ID    │ LIMIT_BAL │ SEX   │ AGE     │ EDUCATION2 │ EDUCATION3 │\n",
       "│      │ \u001b[90mInt64\u001b[39m │ \u001b[90mFloat64\u001b[39m   │ \u001b[90mInt64\u001b[39m │ \u001b[90mFloat64\u001b[39m │ \u001b[90mInt64\u001b[39m      │ \u001b[90mInt64\u001b[39m      │\n",
       "├──────┼───────┼───────────┼───────┼─────────┼────────────┼────────────┤\n",
       "│ 1    │ 11338 │ 120000.0  │ 0     │ 38.0    │ 0          │ 0          │\n",
       "│ 2    │ 5156  │ 80000.0   │ 0     │ 27.0    │ 1          │ 0          │\n",
       "│ 3    │ 4811  │ 300000.0  │ 1     │ 31.0    │ 0          │ 0          │\n",
       "│ 4    │ 19155 │ 230000.0  │ 1     │ 37.0    │ 1          │ 0          │\n",
       "│ 5    │ 2535  │ 50000.0   │ 0     │ 26.0    │ 1          │ 0          │\n",
       "│ 6    │ 13735 │ 60000.0   │ 1     │ 46.0    │ 1          │ 0          │\n",
       "│ 7    │ 24672 │ 390000.0  │ 0     │ 34.0    │ 1          │ 0          │\n",
       "│ 8    │ 6365  │ 30000.0   │ 1     │ 59.0    │ 0          │ 1          │\n",
       "│ 9    │ 6288  │ 200000.0  │ 1     │ 33.0    │ 0          │ 0          │\n",
       "│ 10   │ 7573  │ 40000.0   │ 0     │ 37.0    │ 1          │ 0          │\n",
       "⋮\n",
       "│ 8990 │ 23195 │ 500000.0  │ 1     │ 48.0    │ 0          │ 1          │\n",
       "│ 8991 │ 22822 │ 200000.0  │ 1     │ 35.0    │ 0          │ 1          │\n",
       "│ 8992 │ 27068 │ 230000.0  │ 0     │ 39.0    │ 0          │ 0          │\n",
       "│ 8993 │ 7901  │ 210000.0  │ 1     │ 40.0    │ 1          │ 0          │\n",
       "│ 8994 │ 26138 │ 180000.0  │ 1     │ 37.0    │ 0          │ 1          │\n",
       "│ 8995 │ 18777 │ 220000.0  │ 1     │ 27.0    │ 0          │ 0          │\n",
       "│ 8996 │ 26543 │ 290000.0  │ 1     │ 51.0    │ 1          │ 0          │\n",
       "│ 8997 │ 29582 │ 380000.0  │ 0     │ 37.0    │ 1          │ 0          │\n",
       "│ 8998 │ 3851  │ 50000.0   │ 0     │ 50.0    │ 0          │ 0          │\n",
       "│ 8999 │ 2508  │ 20000.0   │ 0     │ 48.0    │ 1          │ 0          │\n",
       "│ 9000 │ 1013  │ 450000.0  │ 0     │ 38.0    │ 0          │ 0          │"
      ]
     },
     "execution_count": 21,
     "metadata": {},
     "output_type": "execute_result"
    }
   ],
   "source": [
    "Xytest = cc[test, :]"
   ]
  },
  {
   "cell_type": "code",
   "execution_count": 22,
   "metadata": {},
   "outputs": [
    {
     "name": "stdout",
     "output_type": "stream",
     "text": [
      "29×8 DataFrame\n",
      "│ Row │ variable                   │ mean      │ min       │ median   │ max       │ nunique │ nmissing │ eltype   │\n",
      "│     │ \u001b[90mSymbol\u001b[39m                     │ \u001b[90mFloat64\u001b[39m   │ \u001b[90mReal\u001b[39m      │ \u001b[90mFloat64\u001b[39m  │ \u001b[90mReal\u001b[39m      │ \u001b[90mNothing\u001b[39m │ \u001b[90mNothing\u001b[39m  │ \u001b[90mDataType\u001b[39m │\n",
      "├─────┼────────────────────────────┼───────────┼───────────┼──────────┼───────────┼─────────┼──────────┼──────────┤\n",
      "│ 1   │ ID                         │ 15031.6   │ 1         │ 15118.5  │ 30000     │         │          │ Int64    │\n",
      "│ 2   │ LIMIT_BAL                  │ 1.67741e5 │ 10000.0   │ 140000.0 │ 800000.0  │         │          │ Float64  │\n",
      "│ 3   │ SEX                        │ 0.604476  │ 0         │ 1.0      │ 1         │         │          │ Int64    │\n",
      "│ 4   │ AGE                        │ 35.383    │ 21.0      │ 34.0     │ 75.0      │         │          │ Float64  │\n",
      "│ 5   │ EDUCATION2                 │ 0.467524  │ 0         │ 0.0      │ 1         │         │          │ Int64    │\n",
      "│ 6   │ EDUCATION3                 │ 0.163857  │ 0         │ 0.0      │ 1         │         │          │ Int64    │\n",
      "│ 7   │ EDUCATION4                 │ 0.004     │ 0         │ 0.0      │ 1         │         │          │ Int64    │\n",
      "│ 8   │ EDUCATION5                 │ 0.0100952 │ 0         │ 0.0      │ 1         │         │          │ Int64    │\n",
      "│ 9   │ MARRIAGE2                  │ 0.534429  │ 0         │ 1.0      │ 1         │         │          │ Int64    │\n",
      "│ 10  │ MARRIAGE3                  │ 0.0120952 │ 0         │ 0.0      │ 1         │         │          │ Int64    │\n",
      "│ 11  │ PAY_0                      │ 0.35881   │ 0         │ 0.0      │ 8         │         │          │ Int64    │\n",
      "│ 12  │ PAY_2                      │ 0.321095  │ 0         │ 0.0      │ 7         │         │          │ Int64    │\n",
      "│ 13  │ PAY_3                      │ 0.306857  │ 0         │ 0.0      │ 8         │         │          │ Int64    │\n",
      "│ 14  │ PAY_4                      │ 0.261714  │ 0         │ 0.0      │ 8         │         │          │ Int64    │\n",
      "│ 15  │ PAY_5                      │ 0.225476  │ 0         │ 0.0      │ 8         │         │          │ Int64    │\n",
      "│ 16  │ PAY_6                      │ 0.228762  │ 0         │ 0.0      │ 8         │         │          │ Int64    │\n",
      "│ 17  │ BILL_AMT1                  │ 50979.6   │ -154973.0 │ 22493.0  │ 653062.0  │         │          │ Float64  │\n",
      "│ 18  │ BILL_AMT2                  │ 48912.4   │ -69777.0  │ 21257.0  │ 671563.0  │         │          │ Float64  │\n",
      "│ 19  │ BILL_AMT3                  │ 46942.4   │ -157264.0 │ 20190.5  │ 1.66409e6 │         │          │ Float64  │\n",
      "│ 20  │ BILL_AMT4                  │ 43314.5   │ -170000.0 │ 19221.5  │ 706864.0  │         │          │ Float64  │\n",
      "│ 21  │ BILL_AMT5                  │ 40308.6   │ -81334.0  │ 18294.5  │ 823540.0  │         │          │ Float64  │\n",
      "│ 22  │ BILL_AMT6                  │ 38981.7   │ -339603.0 │ 17203.5  │ 699944.0  │         │          │ Float64  │\n",
      "│ 23  │ PAY_AMT1                   │ 5637.46   │ 0.0       │ 2107.5   │ 873552.0  │         │          │ Float64  │\n",
      "│ 24  │ PAY_AMT2                   │ 6040.18   │ 0.0       │ 2005.0   │ 1.68426e6 │         │          │ Float64  │\n",
      "│ 25  │ PAY_AMT3                   │ 5260.81   │ 0.0       │ 1827.5   │ 889043.0  │         │          │ Float64  │\n",
      "│ 26  │ PAY_AMT4                   │ 4834.97   │ 0.0       │ 1500.0   │ 621000.0  │         │          │ Float64  │\n",
      "│ 27  │ PAY_AMT5                   │ 4922.47   │ 0.0       │ 1500.0   │ 426529.0  │         │          │ Float64  │\n",
      "│ 28  │ PAY_AMT6                   │ 5208.64   │ 0.0       │ 1500.0   │ 528666.0  │         │          │ Float64  │\n",
      "│ 29  │ default.payment.next.month │ 0.221667  │ 0         │ 0.0      │ 1         │         │          │ Int64    │\n"
     ]
    }
   ],
   "source": [
    "println(describe(Xytrain))"
   ]
  },
  {
   "cell_type": "markdown",
   "metadata": {},
   "source": [
    "## Centering and Scaling\n",
    "\n",
    "Because some of the variables take only positive values and/or have very large values, I perform centering and scaling on some of the variables. \n",
    "\n",
    "This allows for easier interpretation of the coefficients and the odds-ration later."
   ]
  },
  {
   "cell_type": "code",
   "execution_count": 23,
   "metadata": {},
   "outputs": [
    {
     "data": {
      "text/plain": [
       "14-element Array{Symbol,1}:\n",
       " :LIMIT_BAL\n",
       " :AGE      \n",
       " :BILL_AMT1\n",
       " :BILL_AMT2\n",
       " :BILL_AMT3\n",
       " :BILL_AMT4\n",
       " :BILL_AMT5\n",
       " :BILL_AMT6\n",
       " :PAY_AMT1 \n",
       " :PAY_AMT2 \n",
       " :PAY_AMT3 \n",
       " :PAY_AMT4 \n",
       " :PAY_AMT5 \n",
       " :PAY_AMT6 "
      ]
     },
     "execution_count": 23,
     "metadata": {},
     "output_type": "execute_result"
    }
   ],
   "source": [
    "centerscalecols = [:LIMIT_BAL,\n",
    "                   :AGE,\n",
    "                   :BILL_AMT1,\n",
    "                   :BILL_AMT2,\n",
    "                   :BILL_AMT3,\n",
    "                   :BILL_AMT4,\n",
    "                   :BILL_AMT5,\n",
    "                   :BILL_AMT6,\n",
    "                   :PAY_AMT1,\n",
    "                   :PAY_AMT2,\n",
    "                   :PAY_AMT3,\n",
    "                   :PAY_AMT4,\n",
    "                   :PAY_AMT5,\n",
    "                   :PAY_AMT6]"
   ]
  },
  {
   "cell_type": "markdown",
   "metadata": {},
   "source": [
    "The mean and standard deviation is estimated from the training set, and these values are used to standardize both the training and the test sets. The estimates of the mean and stddev are stored in a separate dataframe. "
   ]
  },
  {
   "cell_type": "code",
   "execution_count": 24,
   "metadata": {},
   "outputs": [
    {
     "name": "stderr",
     "output_type": "stream",
     "text": [
      "┌ Warning: `getindex(df::DataFrame, col_ind::ColumnIndex)` is deprecated, use `df[!, col_ind]` instead.\n",
      "│   caller = top-level scope at In[24]:4\n",
      "└ @ Core ./In[24]:4\n",
      "┌ Warning: `getindex(df::DataFrame, col_ind::ColumnIndex)` is deprecated, use `df[!, col_ind]` instead.\n",
      "│   caller = top-level scope at In[24]:5\n",
      "└ @ Core ./In[24]:5\n",
      "┌ Warning: `getindex(df::DataFrame, col_ind::ColumnIndex)` is deprecated, use `df[!, col_ind]` instead.\n",
      "│   caller = top-level scope at In[24]:7\n",
      "└ @ Core ./In[24]:7\n",
      "┌ Warning: `setindex!(df::DataFrame, v::AbstractVector, col_ind::ColumnIndex)` is deprecated, use `begin\n",
      "│     df[!, col_ind] = v\n",
      "│     df\n",
      "│ end` instead.\n",
      "│   caller = top-level scope at In[24]:7\n",
      "└ @ Core ./In[24]:7\n",
      "┌ Warning: `getindex(df::DataFrame, col_ind::ColumnIndex)` is deprecated, use `df[!, col_ind]` instead.\n",
      "│   caller = top-level scope at In[24]:8\n",
      "└ @ Core ./In[24]:8\n",
      "┌ Warning: `setindex!(df::DataFrame, v::AbstractVector, col_ind::ColumnIndex)` is deprecated, use `begin\n",
      "│     df[!, col_ind] = v\n",
      "│     df\n",
      "│ end` instead.\n",
      "│   caller = top-level scope at In[24]:8\n",
      "└ @ Core ./In[24]:8\n"
     ]
    }
   ],
   "source": [
    "mu_sig = DataFrame(var=String[], mu=Float64[], std=Float64[])\n",
    "\n",
    "for i in centerscalecols\n",
    "    mu  = mean(Xytrain[i])\n",
    "    sig = std(Xytrain[i])\n",
    "    push!(mu_sig, [String(i), mu, sig])\n",
    "    Xytrain[i] = (Xytrain[i] .- mu)./sig\n",
    "    Xytest[i] = (Xytest[i] .- mu)./sig\n",
    "end"
   ]
  },
  {
   "cell_type": "code",
   "execution_count": 25,
   "metadata": {},
   "outputs": [
    {
     "data": {
      "text/html": [
       "<table class=\"data-frame\"><thead><tr><th></th><th>var</th><th>mu</th><th>std</th></tr><tr><th></th><th>String</th><th>Float64</th><th>Float64</th></tr></thead><tbody><p>14 rows × 3 columns</p><tr><th>1</th><td>LIMIT_BAL</td><td>1.67741e5</td><td>1.30153e5</td></tr><tr><th>2</th><td>AGE</td><td>35.383</td><td>9.19344</td></tr><tr><th>3</th><td>BILL_AMT1</td><td>50979.6</td><td>72864.5</td></tr><tr><th>4</th><td>BILL_AMT2</td><td>48912.4</td><td>70396.1</td></tr><tr><th>5</th><td>BILL_AMT3</td><td>46942.4</td><td>69285.7</td></tr><tr><th>6</th><td>BILL_AMT4</td><td>43314.5</td><td>63918.1</td></tr><tr><th>7</th><td>BILL_AMT5</td><td>40308.6</td><td>59989.0</td></tr><tr><th>8</th><td>BILL_AMT6</td><td>38981.7</td><td>59045.3</td></tr><tr><th>9</th><td>PAY_AMT1</td><td>5637.46</td><td>16814.1</td></tr><tr><th>10</th><td>PAY_AMT2</td><td>6040.18</td><td>25160.8</td></tr><tr><th>11</th><td>PAY_AMT3</td><td>5260.81</td><td>17134.3</td></tr><tr><th>12</th><td>PAY_AMT4</td><td>4834.97</td><td>16002.7</td></tr><tr><th>13</th><td>PAY_AMT5</td><td>4922.47</td><td>16184.8</td></tr><tr><th>14</th><td>PAY_AMT6</td><td>5208.64</td><td>17288.0</td></tr></tbody></table>"
      ],
      "text/latex": [
       "\\begin{tabular}{r|ccc}\n",
       "\t& var & mu & std\\\\\n",
       "\t\\hline\n",
       "\t& String & Float64 & Float64\\\\\n",
       "\t\\hline\n",
       "\t1 & LIMIT\\_BAL & 1.67741e5 & 1.30153e5 \\\\\n",
       "\t2 & AGE & 35.383 & 9.19344 \\\\\n",
       "\t3 & BILL\\_AMT1 & 50979.6 & 72864.5 \\\\\n",
       "\t4 & BILL\\_AMT2 & 48912.4 & 70396.1 \\\\\n",
       "\t5 & BILL\\_AMT3 & 46942.4 & 69285.7 \\\\\n",
       "\t6 & BILL\\_AMT4 & 43314.5 & 63918.1 \\\\\n",
       "\t7 & BILL\\_AMT5 & 40308.6 & 59989.0 \\\\\n",
       "\t8 & BILL\\_AMT6 & 38981.7 & 59045.3 \\\\\n",
       "\t9 & PAY\\_AMT1 & 5637.46 & 16814.1 \\\\\n",
       "\t10 & PAY\\_AMT2 & 6040.18 & 25160.8 \\\\\n",
       "\t11 & PAY\\_AMT3 & 5260.81 & 17134.3 \\\\\n",
       "\t12 & PAY\\_AMT4 & 4834.97 & 16002.7 \\\\\n",
       "\t13 & PAY\\_AMT5 & 4922.47 & 16184.8 \\\\\n",
       "\t14 & PAY\\_AMT6 & 5208.64 & 17288.0 \\\\\n",
       "\\end{tabular}\n"
      ],
      "text/plain": [
       "14×3 DataFrame\n",
       "│ Row │ var       │ mu        │ std       │\n",
       "│     │ \u001b[90mString\u001b[39m    │ \u001b[90mFloat64\u001b[39m   │ \u001b[90mFloat64\u001b[39m   │\n",
       "├─────┼───────────┼───────────┼───────────┤\n",
       "│ 1   │ LIMIT_BAL │ 1.67741e5 │ 1.30153e5 │\n",
       "│ 2   │ AGE       │ 35.383    │ 9.19344   │\n",
       "│ 3   │ BILL_AMT1 │ 50979.6   │ 72864.5   │\n",
       "│ 4   │ BILL_AMT2 │ 48912.4   │ 70396.1   │\n",
       "│ 5   │ BILL_AMT3 │ 46942.4   │ 69285.7   │\n",
       "│ 6   │ BILL_AMT4 │ 43314.5   │ 63918.1   │\n",
       "│ 7   │ BILL_AMT5 │ 40308.6   │ 59989.0   │\n",
       "│ 8   │ BILL_AMT6 │ 38981.7   │ 59045.3   │\n",
       "│ 9   │ PAY_AMT1  │ 5637.46   │ 16814.1   │\n",
       "│ 10  │ PAY_AMT2  │ 6040.18   │ 25160.8   │\n",
       "│ 11  │ PAY_AMT3  │ 5260.81   │ 17134.3   │\n",
       "│ 12  │ PAY_AMT4  │ 4834.97   │ 16002.7   │\n",
       "│ 13  │ PAY_AMT5  │ 4922.47   │ 16184.8   │\n",
       "│ 14  │ PAY_AMT6  │ 5208.64   │ 17288.0   │"
      ]
     },
     "execution_count": 25,
     "metadata": {},
     "output_type": "execute_result"
    }
   ],
   "source": [
    "mu_sig"
   ]
  },
  {
   "cell_type": "code",
   "execution_count": 26,
   "metadata": {},
   "outputs": [
    {
     "name": "stdout",
     "output_type": "stream",
     "text": [
      "29×8 DataFrame\n",
      "│ Row │ variable                   │ mean         │ min       │ median    │ max     │ nunique │ nmissing │ eltype   │\n",
      "│     │ \u001b[90mSymbol\u001b[39m                     │ \u001b[90mFloat64\u001b[39m      │ \u001b[90mReal\u001b[39m      │ \u001b[90mFloat64\u001b[39m   │ \u001b[90mReal\u001b[39m    │ \u001b[90mNothing\u001b[39m │ \u001b[90mNothing\u001b[39m  │ \u001b[90mDataType\u001b[39m │\n",
      "├─────┼────────────────────────────┼──────────────┼───────────┼───────────┼─────────┼─────────┼──────────┼──────────┤\n",
      "│ 1   │ ID                         │ 15031.6      │ 1         │ 15118.5   │ 30000   │         │          │ Int64    │\n",
      "│ 2   │ LIMIT_BAL                  │ 2.36848e-18  │ -1.21196  │ -0.213141 │ 4.85781 │         │          │ Float64  │\n",
      "│ 3   │ SEX                        │ 0.604476     │ 0         │ 1.0       │ 1       │         │          │ Int64    │\n",
      "│ 4   │ AGE                        │ -2.90984e-16 │ -1.56448  │ -0.150433 │ 4.30927 │         │          │ Float64  │\n",
      "│ 5   │ EDUCATION2                 │ 0.467524     │ 0         │ 0.0       │ 1       │         │          │ Int64    │\n",
      "│ 6   │ EDUCATION3                 │ 0.163857     │ 0         │ 0.0       │ 1       │         │          │ Int64    │\n",
      "│ 7   │ EDUCATION4                 │ 0.004        │ 0         │ 0.0       │ 1       │         │          │ Int64    │\n",
      "│ 8   │ EDUCATION5                 │ 0.0100952    │ 0         │ 0.0       │ 1       │         │          │ Int64    │\n",
      "│ 9   │ MARRIAGE2                  │ 0.534429     │ 0         │ 1.0       │ 1       │         │          │ Int64    │\n",
      "│ 10  │ MARRIAGE3                  │ 0.0120952    │ 0         │ 0.0       │ 1       │         │          │ Int64    │\n",
      "│ 11  │ PAY_0                      │ 0.35881      │ 0         │ 0.0       │ 8       │         │          │ Int64    │\n",
      "│ 12  │ PAY_2                      │ 0.321095     │ 0         │ 0.0       │ 7       │         │          │ Int64    │\n",
      "│ 13  │ PAY_3                      │ 0.306857     │ 0         │ 0.0       │ 8       │         │          │ Int64    │\n",
      "│ 14  │ PAY_4                      │ 0.261714     │ 0         │ 0.0       │ 8       │         │          │ Int64    │\n",
      "│ 15  │ PAY_5                      │ 0.225476     │ 0         │ 0.0       │ 8       │         │          │ Int64    │\n",
      "│ 16  │ PAY_6                      │ 0.228762     │ 0         │ 0.0       │ 8       │         │          │ Int64    │\n",
      "│ 17  │ BILL_AMT1                  │ 2.67299e-17  │ -2.82651  │ -0.390953 │ 8.26304 │         │          │ Float64  │\n",
      "│ 18  │ BILL_AMT2                  │ -1.79327e-17 │ -1.68602  │ -0.392854 │ 8.84496 │         │          │ Float64  │\n",
      "│ 19  │ BILL_AMT3                  │ 3.3497e-17   │ -2.94731  │ -0.38611  │ 23.3402 │         │          │ Float64  │\n",
      "│ 20  │ BILL_AMT4                  │ 5.65051e-17  │ -3.33731  │ -0.376935 │ 10.3812 │         │          │ Float64  │\n",
      "│ 21  │ BILL_AMT5                  │ 2.36848e-17  │ -2.02775  │ -0.36697  │ 13.0563 │         │          │ Float64  │\n",
      "│ 22  │ BILL_AMT6                  │ 2.13163e-17  │ -6.41177  │ -0.368839 │ 11.1942 │         │          │ Float64  │\n",
      "│ 23  │ PAY_AMT1                   │ -4.73695e-18 │ -0.335282 │ -0.209941 │ 51.6183 │         │          │ Float64  │\n",
      "│ 24  │ PAY_AMT2                   │ 9.13555e-18  │ -0.240063 │ -0.160376 │ 66.6998 │         │          │ Float64  │\n",
      "│ 25  │ PAY_AMT3                   │ 2.36848e-18  │ -0.307034 │ -0.200377 │ 51.5797 │         │          │ Float64  │\n",
      "│ 26  │ PAY_AMT4                   │ -2.09779e-17 │ -0.302135 │ -0.208401 │ 38.5038 │         │          │ Float64  │\n",
      "│ 27  │ PAY_AMT5                   │ 1.08273e-17  │ -0.304142 │ -0.211462 │ 26.0496 │         │          │ Float64  │\n",
      "│ 28  │ PAY_AMT6                   │ -4.3986e-18  │ -0.301286 │ -0.214521 │ 30.2786 │         │          │ Float64  │\n",
      "│ 29  │ default.payment.next.month │ 0.221667     │ 0         │ 0.0       │ 1       │         │          │ Int64    │\n"
     ]
    }
   ],
   "source": [
    "println(describe(Xytrain))"
   ]
  },
  {
   "cell_type": "code",
   "execution_count": 27,
   "metadata": {},
   "outputs": [
    {
     "name": "stdout",
     "output_type": "stream",
     "text": [
      "29×8 DataFrame\n",
      "│ Row │ variable                   │ mean        │ min       │ median    │ max     │ nunique │ nmissing │ eltype   │\n",
      "│     │ \u001b[90mSymbol\u001b[39m                     │ \u001b[90mFloat64\u001b[39m     │ \u001b[90mReal\u001b[39m      │ \u001b[90mFloat64\u001b[39m   │ \u001b[90mReal\u001b[39m    │ \u001b[90mNothing\u001b[39m │ \u001b[90mNothing\u001b[39m  │ \u001b[90mDataType\u001b[39m │\n",
      "├─────┼────────────────────────────┼─────────────┼───────────┼───────────┼─────────┼─────────┼──────────┼──────────┤\n",
      "│ 1   │ ID                         │ 14927.9     │ 10        │ 14759.5   │ 29999   │         │          │ Int64    │\n",
      "│ 2   │ LIMIT_BAL                  │ -0.00657212 │ -1.21196  │ -0.213141 │ 6.39446 │         │          │ Float64  │\n",
      "│ 3   │ SEX                        │ 0.602       │ 0         │ 1.0       │ 1       │         │          │ Int64    │\n",
      "│ 4   │ AGE                        │ 0.0371642   │ -1.56448  │ -0.150433 │ 4.74436 │         │          │ Float64  │\n",
      "│ 5   │ EDUCATION2                 │ 0.468       │ 0         │ 0.0       │ 1       │         │          │ Int64    │\n",
      "│ 6   │ EDUCATION3                 │ 0.164       │ 0         │ 0.0       │ 1       │         │          │ Int64    │\n",
      "│ 7   │ EDUCATION4                 │ 0.00433333  │ 0         │ 0.0       │ 1       │         │          │ Int64    │\n",
      "│ 8   │ EDUCATION5                 │ 0.0147778   │ 0         │ 0.0       │ 1       │         │          │ Int64    │\n",
      "│ 9   │ MARRIAGE2                  │ 0.526778    │ 0         │ 1.0       │ 1       │         │          │ Int64    │\n",
      "│ 10  │ MARRIAGE3                  │ 0.0136667   │ 0         │ 0.0       │ 1       │         │          │ Int64    │\n",
      "│ 11  │ PAY_0                      │ 0.352       │ 0         │ 0.0       │ 8       │         │          │ Int64    │\n",
      "│ 12  │ PAY_2                      │ 0.317556    │ 0         │ 0.0       │ 8       │         │          │ Int64    │\n",
      "│ 13  │ PAY_3                      │ 0.297556    │ 0         │ 0.0       │ 7       │         │          │ Int64    │\n",
      "│ 14  │ PAY_4                      │ 0.251889    │ 0         │ 0.0       │ 7       │         │          │ Int64    │\n",
      "│ 15  │ PAY_5                      │ 0.212222    │ 0         │ 0.0       │ 7       │         │          │ Int64    │\n",
      "│ 16  │ PAY_6                      │ 0.221444    │ 0         │ 0.0       │ 7       │         │          │ Int64    │\n",
      "│ 17  │ BILL_AMT1                  │ 0.0111496   │ -2.97209  │ -0.396477 │ 12.5374 │         │          │ Float64  │\n",
      "│ 18  │ BILL_AMT2                  │ 0.0126283   │ -1.65405  │ -0.396469 │ 13.2823 │         │          │ Float64  │\n",
      "│ 19  │ BILL_AMT3                  │ 0.00340399  │ -0.970797 │ -0.389494 │ 9.32643 │         │          │ Float64  │\n",
      "│ 20  │ BILL_AMT4                  │ -0.00268614 │ -1.05788  │ -0.386447 │ 13.2712 │         │          │ Float64  │\n",
      "│ 21  │ BILL_AMT5                  │ 0.000152918 │ -1.69499  │ -0.375013 │ 14.7838 │         │          │ Float64  │\n",
      "│ 22  │ BILL_AMT6                  │ -0.00620604 │ -1.27254  │ -0.376892 │ 15.6267 │         │          │ Float64  │\n",
      "│ 23  │ PAY_AMT1                   │ 0.00517737  │ -0.335282 │ -0.210387 │ 29.6991 │         │          │ Float64  │\n",
      "│ 24  │ PAY_AMT2                   │ -0.0157679  │ -0.240063 │ -0.159601 │ 15.6976 │         │          │ Float64  │\n",
      "│ 25  │ PAY_AMT3                   │ -0.00683401 │ -0.307034 │ -0.203499 │ 51.9881 │         │          │ Float64  │\n",
      "│ 26  │ PAY_AMT4                   │ -0.00185343 │ -0.302135 │ -0.208401 │ 26.7014 │         │          │ Float64  │\n",
      "│ 27  │ PAY_AMT5                   │ -0.0253499  │ -0.304142 │ -0.211462 │ 25.522  │         │          │ Float64  │\n",
      "│ 28  │ PAY_AMT6                   │ 0.00132246  │ -0.301286 │ -0.217413 │ 30.1905 │         │          │ Float64  │\n",
      "│ 29  │ default.payment.next.month │ 0.220111    │ 0         │ 0.0       │ 1       │         │          │ Int64    │\n"
     ]
    }
   ],
   "source": [
    "println(describe(Xytest))"
   ]
  },
  {
   "cell_type": "markdown",
   "metadata": {},
   "source": [
    "# Saving the Processed Data\n",
    "\n",
    "The parameter estimates, train set and test set are saved to CSV's."
   ]
  },
  {
   "cell_type": "code",
   "execution_count": 28,
   "metadata": {},
   "outputs": [
    {
     "data": {
      "text/plain": [
       "\"Data/CCDataCleanTrain.csv\""
      ]
     },
     "execution_count": 28,
     "metadata": {},
     "output_type": "execute_result"
    }
   ],
   "source": [
    "CSV.write(\"Data/CCDataCleanTrain.csv\", Xytrain)"
   ]
  },
  {
   "cell_type": "code",
   "execution_count": 29,
   "metadata": {},
   "outputs": [
    {
     "data": {
      "text/plain": [
       "\"Data/CCDataCleanTest.csv\""
      ]
     },
     "execution_count": 29,
     "metadata": {},
     "output_type": "execute_result"
    }
   ],
   "source": [
    "CSV.write(\"Data/CCDataCleanTest.csv\", Xytest)"
   ]
  },
  {
   "cell_type": "code",
   "execution_count": 30,
   "metadata": {},
   "outputs": [
    {
     "data": {
      "text/plain": [
       "\"Data/MuSigmas.csv\""
      ]
     },
     "execution_count": 30,
     "metadata": {},
     "output_type": "execute_result"
    }
   ],
   "source": [
    "CSV.write(\"Data/MuSigmas.csv\", mu_sig)"
   ]
  },
  {
   "cell_type": "code",
   "execution_count": null,
   "metadata": {},
   "outputs": [],
   "source": []
  }
 ],
 "metadata": {
  "kernelspec": {
   "display_name": "Julia 1.2.0",
   "language": "julia",
   "name": "julia-1.2"
  },
  "language_info": {
   "file_extension": ".jl",
   "mimetype": "application/julia",
   "name": "julia",
   "version": "1.2.0"
  }
 },
 "nbformat": 4,
 "nbformat_minor": 4
}
