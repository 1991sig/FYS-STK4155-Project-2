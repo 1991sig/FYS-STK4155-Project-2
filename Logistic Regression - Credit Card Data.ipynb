{
 "cells": [
  {
   "cell_type": "code",
   "execution_count": 1,
   "metadata": {},
   "outputs": [],
   "source": [
    "using Revise, LinearAlgebra, Random, CSV, Printf"
   ]
  },
  {
   "cell_type": "markdown",
   "metadata": {},
   "source": [
    "## Loading of the GeneralizedLinearModels Module and Training Data\n",
    "\n",
    "Loading the module with the logistic regression implementation in a GLM perspective. "
   ]
  },
  {
   "cell_type": "code",
   "execution_count": 2,
   "metadata": {},
   "outputs": [],
   "source": [
    "includet(\"./GeneralizedLinearModels/GeneralizedLinearModels.jl\")\n",
    "using .GeneralizedLinearModels"
   ]
  },
  {
   "cell_type": "markdown",
   "metadata": {},
   "source": [
    "Read in the cleaned training data. Variable names are stored for use in the model."
   ]
  },
  {
   "cell_type": "code",
   "execution_count": 4,
   "metadata": {},
   "outputs": [
    {
     "name": "stdout",
     "output_type": "stream",
     "text": [
      "Symbol[:ID, :LIMIT_BAL, :SEX, :AGE, :EDUCATION2, :EDUCATION3, :EDUCATION4, :EDUCATION5, :MARRIAGE2, :MARRIAGE3, :PAY_0, :PAY_2, :PAY_3, :PAY_4, :PAY_5, :PAY_6, :BILL_AMT1, :BILL_AMT2, :BILL_AMT3, :BILL_AMT4, :BILL_AMT5, :BILL_AMT6, :PAY_AMT1, :PAY_AMT2, :PAY_AMT3, :PAY_AMT4, :PAY_AMT5, :PAY_AMT6, Symbol(\"default.payment.next.month\")]\n"
     ]
    }
   ],
   "source": [
    "Xytrain = CSV.read(\"Data/CCDataCleanTrain.csv\")\n",
    "colnames = names(Xytrain)\n",
    "println(colnames)"
   ]
  },
  {
   "cell_type": "markdown",
   "metadata": {},
   "source": [
    "Converting the dataframe to a matrix, adding the intercept by overwriting the ID-column.\n",
    "Then store the \"Intercept\" name with the other variable names, and split into design matrix and dependent variable vector, `Xtrain` and `ytrain`"
   ]
  },
  {
   "cell_type": "code",
   "execution_count": 5,
   "metadata": {},
   "outputs": [
    {
     "data": {
      "text/plain": [
       "([1.0 0.555185150030247 … 0.6189477105406902 -0.3012860091737996; 1.0 0.09418956435995768 … -0.2434678905136638 -0.2772231272518333; … ; 1.0 0.7856829428653916 … -0.30414220776795353 -0.15060377983071738; 1.0 -0.136308228475187 … -0.3019178947117881 -0.24066605663961527], [0.0, 1.0, 0.0, 0.0, 0.0, 0.0, 0.0, 0.0, 0.0, 0.0  …  0.0, 0.0, 0.0, 0.0, 0.0, 0.0, 0.0, 1.0, 0.0, 1.0])"
      ]
     },
     "execution_count": 5,
     "metadata": {},
     "output_type": "execute_result"
    }
   ],
   "source": [
    "Xytrain = Matrix(Xytrain)\n",
    "Xytrain[:, 1] .= 1\n",
    "colnames[1] = :Intercept\n",
    "colnames = colnames[1:end-1]\n",
    "Xtrain, ytrain = Xytrain[:, 1:28], Xytrain[:, 29]"
   ]
  },
  {
   "cell_type": "markdown",
   "metadata": {},
   "source": [
    "# Fit GLM on Training Data\n",
    "\n",
    "Intialize the GLM model with `Xtrain` as independent data, and `ytrain` as the dependent variable observations. By specifying the Binomial distribution as the random component of our model and that we use the logit as link function, this becomes a logistic regression model. \n"
   ]
  },
  {
   "cell_type": "code",
   "execution_count": 6,
   "metadata": {},
   "outputs": [
    {
     "data": {
      "text/plain": [
       "GLMFit{GLModel{Binomial,LinearPredictor{Float64},Logit,Array{Symbol,1}},Main.GeneralizedLinearModels.Fit{Float64}}(GLModel{Binomial,LinearPredictor{Float64},Logit,Array{Symbol,1}}(Binomial(), LinearPredictor{Float64}([1.0 0.555185150030247 … 0.6189477105406902 -0.3012860091737996; 1.0 0.09418956435995768 … -0.2434678905136638 -0.2772231272518333; … ; 1.0 0.7856829428653916 … -0.30414220776795353 -0.15060377983071738; 1.0 -0.136308228475187 … -0.3019178947117881 -0.24066605663961527], [0.0, 0.0, 0.0, 0.0, 0.0, 0.0, 0.0, 0.0, 0.0, 0.0  …  0.0, 0.0, 0.0, 0.0, 0.0, 0.0, 0.0, 0.0, 0.0, 0.0]), Logit(), Symbol[:Intercept, :LIMIT_BAL, :SEX, :AGE, :EDUCATION2, :EDUCATION3, :EDUCATION4, :EDUCATION5, :MARRIAGE2, :MARRIAGE3  …  :BILL_AMT3, :BILL_AMT4, :BILL_AMT5, :BILL_AMT6, :PAY_AMT1, :PAY_AMT2, :PAY_AMT3, :PAY_AMT4, :PAY_AMT5, :PAY_AMT6]), Main.GeneralizedLinearModels.Fit{Float64}([0.0, 1.0, 0.0, 0.0, 0.0, 0.0, 0.0, 0.0, 0.0, 0.0  …  0.0, 0.0, 0.0, 0.0, 0.0, 0.0, 0.0, 1.0, 0.0, 1.0], [0.0, 0.0, 0.0, 0.0, 0.0, 0.0, 0.0, 0.0, 0.0, 0.0  …  0.0, 0.0, 0.0, 0.0, 0.0, 0.0, 0.0, 0.0, 0.0, 0.0], [0.0, 0.0, 0.0, 0.0, 0.0, 0.0, 0.0, 0.0, 0.0, 0.0  …  0.0, 0.0, 0.0, 0.0, 0.0, 0.0, 0.0, 0.0, 0.0, 0.0], [0.0, 0.0, 0.0, 1.5e-323, 0.0, 0.0, 0.0, 5.0e-324, 5.0e-324, 5.0e-324  …  2.1568114073e-314, 2.1568114073e-314, 2.1568114073e-314, 2.1568114073e-314, 2.1568114073e-314, 2.1568114073e-314, 2.1568114073e-314, 2.1568114073e-314, 2.1568114073e-314, 2.1568114073e-314], [0.0, 0.0, 0.0, 0.0, 0.0, 0.0, 0.0, 0.0, 0.0, 0.0  …  0.0, 0.0, 0.0, 0.0, 0.0, 0.0, 0.0, 0.0, 0.0, 0.0], [0.0, 0.0, 0.0, 0.0, 0.0, 0.0, 0.0, 0.0, 0.0, 0.0  …  0.0, 0.0, 0.0, 0.0, 0.0, 0.0, 0.0, 0.0, 0.0, 0.0], 0.0, 0.0), false)"
      ]
     },
     "execution_count": 6,
     "metadata": {},
     "output_type": "execute_result"
    }
   ],
   "source": [
    "fit1 = glm(Xtrain, ytrain, Binomial(), Logit(), colnames)"
   ]
  },
  {
   "cell_type": "markdown",
   "metadata": {},
   "source": [
    "Fit the model using Fisher's scoring algorithm. Since we have specified that the errors are Binomially distributed in our model, and since the canonical link function for the Binomial distribution is the logit, Fisher's scoring algorithm is equivalent to Newtons method.\n",
    "\n",
    "As the model is fitted, the value of the loglikelihood function evaluated at the current $\\beta$ estimates is printed. "
   ]
  },
  {
   "cell_type": "code",
   "execution_count": 7,
   "metadata": {},
   "outputs": [
    {
     "name": "stdout",
     "output_type": "stream",
     "text": [
      "Fisher Iteration 1 𝐿(β) = -1.598045154156e+04\n",
      "Fisher Iteration 2 𝐿(β) = -9.571460310118e+03\n",
      "Fisher Iteration 3 𝐿(β) = -9.354218924007e+03\n",
      "Fisher Iteration 4 𝐿(β) = -9.341557807703e+03\n",
      "Fisher Iteration 5 𝐿(β) = -9.341061076588e+03\n",
      "Fisher Iteration 6 𝐿(β) = -9.341059207610e+03\n",
      "Stopping after 7 iterations\n"
     ]
    },
    {
     "data": {
      "text/plain": [
       "GLMFit{GLModel{Binomial,LinearPredictor{Float64},Logit,Array{Symbol,1}},Main.GeneralizedLinearModels.Fit{Float64}}(GLModel{Binomial,LinearPredictor{Float64},Logit,Array{Symbol,1}}(Binomial(), LinearPredictor{Float64}([1.0 0.555185150030247 … 0.6189477105406902 -0.3012860091737996; 1.0 0.09418956435995768 … -0.2434678905136638 -0.2772231272518333; … ; 1.0 0.7856829428653916 … -0.30414220776795353 -0.15060377983071738; 1.0 -0.136308228475187 … -0.3019178947117881 -0.24066605663961527], [-1.7210914207446932, -0.16179872878235277, -0.0998781167390603, 0.041161975692704966, 0.00656947916065063, -0.010202688118999192, -1.5546166342671048, -0.9868301385787495, -0.16655142784549865, -0.36480062542337227  …  0.1703427633896482, -0.008980407027542854, -0.01121079950746877, -0.0065992255008642834, -0.16239211679022442, -0.21795621113376024, -0.11052753200974898, -0.06591558227334549, -0.01799730138975017, -0.029767526314555207]), Logit(), Symbol[:Intercept, :LIMIT_BAL, :SEX, :AGE, :EDUCATION2, :EDUCATION3, :EDUCATION4, :EDUCATION5, :MARRIAGE2, :MARRIAGE3  …  :BILL_AMT3, :BILL_AMT4, :BILL_AMT5, :BILL_AMT6, :PAY_AMT1, :PAY_AMT2, :PAY_AMT3, :PAY_AMT4, :PAY_AMT5, :PAY_AMT6]), Main.GeneralizedLinearModels.Fit{Float64}([0.0, 1.0, 0.0, 0.0, 0.0, 0.0, 0.0, 0.0, 0.0, 0.0  …  0.0, 0.0, 0.0, 0.0, 0.0, 0.0, 0.0, 1.0, 0.0, 1.0], [-1.7210914207446932, -0.16179872878235277, -0.0998781167390603, 0.041161975692704966, 0.00656947916065063, -0.010202688118999192, -1.5546166342671048, -0.9868301385787495, -0.16655142784549865, -0.36480062542337227  …  0.1703427633896482, -0.008980407027542854, -0.01121079950746877, -0.0065992255008642834, -0.16239211679022442, -0.21795621113376024, -0.11052753200974898, -0.06591558227334549, -0.01799730138975017, -0.029767526314555207], [0.2736664544423999, 1.5421817251840737, 0.38179980922704654, 0.28523974586525924, 0.30744353469427044, 0.2332995784522029, 0.3895943487651834, 0.2792045586688221, 0.41630282825500187, 0.12461794232123233  …  0.24893428711719545, 0.30297527989317274, 0.3200827501251105, 0.33282980702055665, 0.7086375073133926, 0.3102809739794621, 1.1990116275846676, 1.189690021984583, 0.3029902318700585, 0.5209390915315026], [0.049869742459679185, 0.023951642851644778, 0.037986090122144774, 0.02123904916079856, 0.043609962581465996, 0.05842272794771918, 0.5944180459579126, 0.27791115113472287, 0.04267434475679193, 0.17677124035832503  …  0.1137458204088169, 0.10466775505911499, 0.1128602021564474, 0.08598404774118544, 0.04348684552115622, 0.060171035880425064, 0.04233883597480354, 0.03565526664237936, 0.031485102880266846, 0.027355062577387963], [-1.9197957834828314, -0.15024897593333902, -1.5590381075826596, -1.8754151086377604, -1.7947657270685415, -2.0896872915156584, -1.5368172247750087, -1.898344720165215, -1.4636091637444977, -2.744333616845594  …  -2.020834513692469, -1.8105514169803159, -1.7512352247987262, -1.70891009133415, -0.8551735142417768, -1.784851305350521, -0.19696599682901844, 0.20733176056358302, -1.8104982353762826, 1.2122093057411787], [0.12788434084344974, 0.4625082600636592, 0.17378471564942927, 0.13291639179273254, 0.14248942473465737, 0.11010320995853505, 0.17699843307031105, 0.13029593409776585, 0.18791593359791878, 0.06040746505780248  …  0.11703272794777411, 0.1405714952104961, 0.14789146780698262, 0.15330513536926135, 0.2983487222041676, 0.14370512925566747, 0.4509170817383774, 0.5516480586276507, 0.14057792026404856, 0.7706896267810898], 20972.0, 18738.118415128083), true)"
      ]
     },
     "execution_count": 7,
     "metadata": {},
     "output_type": "execute_result"
    }
   ],
   "source": [
    "FisherScoring!(fit1)"
   ]
  },
  {
   "cell_type": "markdown",
   "metadata": {},
   "source": [
    "Inspect the summary of the fitted model, which displays the estimates, standard error estimates, z-scores and p-values, and also AIC, deviance, and degrees of freedom."
   ]
  },
  {
   "cell_type": "code",
   "execution_count": 8,
   "metadata": {},
   "outputs": [
    {
     "name": "stdout",
     "output_type": "stream",
     "text": [
      "\n",
      "Variable        β-hat          SE            Z        P(z > |Z|)     \n",
      "--------        -----          --            -        ----------     \n",
      "Intercept    -1.72109e+00  4.98697e-02 -3.45117e+01    0.00000 \n",
      "LIMIT_BAL    -1.61799e-01  2.39516e-02 -6.75522e+00    0.00000 \n",
      "SEX          -9.98781e-02  3.79861e-02 -2.62933e+00    0.00856 \n",
      "AGE           4.11620e-02  2.12390e-02  1.93803e+00    0.05262 \n",
      "EDUCATION2    6.56948e-03  4.36100e-02  1.50642e-01    0.88026 \n",
      "EDUCATION3   -1.02027e-02  5.84227e-02 -1.74636e-01    0.86137 \n",
      "EDUCATION4   -1.55462e+00  5.94418e-01 -2.61536e+00    0.00891 \n",
      "EDUCATION5   -9.86830e-01  2.77911e-01 -3.55088e+00    0.00038 \n",
      "MARRIAGE2    -1.66551e-01  4.26743e-02 -3.90285e+00    0.00010 \n",
      "MARRIAGE3    -3.64801e-01  1.76771e-01 -2.06369e+00    0.03905 \n",
      "PAY_0         8.58377e-01  2.96184e-02  2.89812e+01    0.00000 \n",
      "PAY_2         6.14319e-02  3.14170e-02  1.95537e+00    0.05054 \n",
      "PAY_3         1.24692e-01  3.37664e-02  3.69278e+00    0.00022 \n",
      "PAY_4         8.11379e-02  3.75655e-02  2.15990e+00    0.03078 \n",
      "PAY_5         9.99670e-02  4.06205e-02  2.46100e+00    0.01386 \n",
      "PAY_6         1.64563e-01  3.47123e-02  4.74075e+00    0.00000 \n",
      "BILL_AMT1    -1.87569e-01  9.50882e-02 -1.97258e+00    0.04854 \n",
      "BILL_AMT2     7.17924e-02  1.27261e-01  5.64133e-01    0.57266 \n",
      "BILL_AMT3     1.70343e-01  1.13746e-01  1.49757e+00    0.13424 \n",
      "BILL_AMT4    -8.98041e-03  1.04668e-01 -8.57992e-02    0.93163 \n",
      "BILL_AMT5    -1.12108e-02  1.12860e-01 -9.93335e-02    0.92087 \n",
      "BILL_AMT6    -6.59923e-03  8.59840e-02 -7.67494e-02    0.93882 \n",
      "PAY_AMT1     -1.62392e-01  4.34868e-02 -3.73428e+00    0.00019 \n",
      "PAY_AMT2     -2.17956e-01  6.01710e-02 -3.62228e+00    0.00029 \n",
      "PAY_AMT3     -1.10528e-01  4.23388e-02 -2.61055e+00    0.00904 \n",
      "PAY_AMT4     -6.59156e-02  3.56553e-02 -1.84869e+00    0.06450 \n",
      "PAY_AMT5     -1.79973e-02  3.14851e-02 -5.71613e-01    0.56758 \n",
      "PAY_AMT6     -2.97675e-02  2.73551e-02 -1.08819e+00    0.27651 \n",
      "\n",
      "\n",
      "AIC: 18738\n",
      "DoF: 20972\n",
      "Residual Deviance: 18682"
     ]
    }
   ],
   "source": [
    "GeneralizedLinearModels.summary(fit1)"
   ]
  },
  {
   "cell_type": "markdown",
   "metadata": {},
   "source": [
    "As we can tell from the summary statistics above, many of the variables are not significant at the 95% level.  Thus, it is likely possible to obtain a more parsimonious model by not using all the variables, without losing predictive power.\n",
    "\n",
    "Predict and check accuracy score on the training data."
   ]
  },
  {
   "cell_type": "code",
   "execution_count": 9,
   "metadata": {},
   "outputs": [
    {
     "data": {
      "text/plain": [
       "0.816952380952381"
      ]
     },
     "execution_count": 9,
     "metadata": {},
     "output_type": "execute_result"
    }
   ],
   "source": [
    "μ = fit1.Fit.μ\n",
    "y_hat = map(mu -> mu > 0.5 ? 1 : 0, μ)\n",
    "Score(ytrain, y_hat)"
   ]
  },
  {
   "cell_type": "markdown",
   "metadata": {},
   "source": [
    "# Evaluation on Test Set\n",
    "\n",
    "Reading in the data, adding intercept, removing ID-column, and splitting into independent and dependent variables."
   ]
  },
  {
   "cell_type": "code",
   "execution_count": 11,
   "metadata": {},
   "outputs": [
    {
     "data": {
      "text/plain": [
       "([1.0 -0.3668060213103317 … -0.056996312638463886 -0.13643213062186701; 1.0 -0.6741364117571912 … -0.2800454829928283 -0.2787270573719562; … ; 1.0 -1.1351319974274805 … -0.2423557339855811 -0.3012860091737996; 1.0 2.16866969987626 … 0.4667058391409246 0.08788483114107844], [0.0, 0.0, 0.0, 0.0, 0.0, 0.0, 0.0, 0.0, 0.0, 0.0  …  0.0, 0.0, 0.0, 0.0, 0.0, 0.0, 0.0, 1.0, 1.0, 0.0])"
      ]
     },
     "execution_count": 11,
     "metadata": {},
     "output_type": "execute_result"
    }
   ],
   "source": [
    "Xytest = CSV.read(\"Data/CCDataCleanTest.csv\")\n",
    "Xytest = Matrix(Xytest)\n",
    "Xytest[:, 1] .= 1\n",
    "Xtest, ytest = Xytest[:, 1:28], Xytest[:, 29]"
   ]
  },
  {
   "cell_type": "markdown",
   "metadata": {},
   "source": [
    "Prediction and accuracy evalutation on the test set"
   ]
  },
  {
   "cell_type": "code",
   "execution_count": 12,
   "metadata": {},
   "outputs": [
    {
     "data": {
      "text/plain": [
       "0.8176666666666667"
      ]
     },
     "execution_count": 12,
     "metadata": {},
     "output_type": "execute_result"
    }
   ],
   "source": [
    "μ = Predict(fit1, Xtest)\n",
    "y_hat_test = map(μi -> μi > 0.5 ? 1 : 0, μ)\n",
    "Score(ytest, y_hat_test)"
   ]
  },
  {
   "cell_type": "markdown",
   "metadata": {},
   "source": [
    "# Model Selection\n",
    "\n",
    "I have not yet implemented step selection methods for performing model selection in my module yet. Therefore, I have used R to do this. The code for this can be found in the file `LogregModelSelection.R`.\n",
    "The optimal model is found by starting from the null model, which only contains the intercept as predictor, and then adding a the variable in each step which gives the greatest reduction in AIC. This is done until adding a new variable will increase the AIC, when we stop. The variables used in the optimal model are:"
   ]
  },
  {
   "cell_type": "code",
   "execution_count": 13,
   "metadata": {},
   "outputs": [
    {
     "data": {
      "text/plain": [
       "17-element Array{Symbol,1}:\n",
       " :Intercept \n",
       " :PAY_0     \n",
       " :PAY_5     \n",
       " :LIMIT_BAL \n",
       " :PAY_3     \n",
       " :PAY_AMT1  \n",
       " :MARRIAGE2 \n",
       " :EDUCATION5\n",
       " :SEX       \n",
       " :PAY_6     \n",
       " :PAY_AMT2  \n",
       " :PAY_AMT6  \n",
       " :BILL_AMT3 \n",
       " :BILL_AMT6 \n",
       " :EDUCATION4\n",
       " :PAY_2     \n",
       " :PAY_4     "
      ]
     },
     "execution_count": 13,
     "metadata": {},
     "output_type": "execute_result"
    }
   ],
   "source": [
    "optimcols = [:Intercept,\n",
    "             :PAY_0,\n",
    "             :PAY_5,\n",
    "             :LIMIT_BAL,\n",
    "             :PAY_3,\n",
    "             :PAY_AMT1,\n",
    "             :MARRIAGE2,\n",
    "             :EDUCATION5,\n",
    "             :SEX,\n",
    "             :PAY_6,\n",
    "             :PAY_AMT2,\n",
    "             :PAY_AMT6,\n",
    "             :BILL_AMT3,\n",
    "             :BILL_AMT6,\n",
    "             :EDUCATION4,\n",
    "             :PAY_2,\n",
    "             :PAY_4]"
   ]
  },
  {
   "cell_type": "markdown",
   "metadata": {},
   "source": [
    "Subsetting the training and test data with the selected predictors."
   ]
  },
  {
   "cell_type": "code",
   "execution_count": 14,
   "metadata": {},
   "outputs": [
    {
     "data": {
      "text/plain": [
       "9000×17 Array{Float64,2}:\n",
       " 1.0  0.0  0.0  -0.366806   0.0  -0.241611   …  -0.594708   0.0  0.0  0.0\n",
       " 1.0  0.0  2.0  -0.674136   0.0  -0.312087      -0.653595   0.0  0.0  0.0\n",
       " 1.0  0.0  0.0   1.01618    0.0  -0.0379125     -0.542544   0.0  0.0  0.0\n",
       " 1.0  0.0  0.0   0.478353   0.0  -0.21794       -0.315922   0.0  0.0  0.0\n",
       " 1.0  0.0  0.0  -0.904634   0.0  -0.290677      -0.640893   0.0  0.0  0.0\n",
       " 1.0  0.0  0.0  -0.827802   0.0  -0.216334   …  -0.277426   0.0  0.0  0.0\n",
       " 1.0  0.0  0.0   1.70767    0.0  -0.335282      -0.68491    0.0  0.0  0.0\n",
       " 1.0  0.0  0.0  -1.0583     0.0  -0.0411241     -0.162768   0.0  0.0  0.0\n",
       " 1.0  0.0  0.0   0.247855   0.0  -0.12754       -0.0950743  0.0  0.0  0.0\n",
       " 1.0  1.0  0.0  -0.981467   0.0  -0.335282      -0.33213    0.0  2.0  0.0\n",
       " 1.0  0.0  0.0   0.0941896  0.0  -0.21116    …   0.237264   0.0  0.0  0.0\n",
       " 1.0  0.0  0.0   0.862516   0.0  -0.0965539      0.858566   0.0  0.0  0.0\n",
       " 1.0  1.0  2.0   0.0941896  2.0  -0.216334      -0.651867   0.0  2.0  2.0\n",
       " ⋮                                ⋮          ⋱                   ⋮       \n",
       " 1.0  0.0  0.0  -1.13513    0.0  -0.246071      -0.369999   0.0  0.0  2.0\n",
       " 1.0  0.0  0.0   2.55283    0.0   1.1709         0.270001   0.0  0.0  0.0\n",
       " 1.0  0.0  0.0   0.247855   0.0   0.122667   …  -0.26032    0.0  0.0  0.0\n",
       " 1.0  0.0  2.0   0.478353   0.0  -0.275808      -0.649987   0.0  0.0  0.0\n",
       " 1.0  0.0  0.0   0.324687   0.0  -0.301977      -0.653324   0.0  0.0  0.0\n",
       " 1.0  0.0  0.0   0.0941896  0.0  -0.073478       0.778289   0.0  0.0  0.0\n",
       " 1.0  0.0  0.0   0.40152    0.0  -0.0181672     -0.487959   0.0  0.0  0.0\n",
       " 1.0  0.0  0.0   0.939348   0.0   0.331421   …  -0.602414   0.0  0.0  0.0\n",
       " 1.0  0.0  0.0   1.63084    0.0   0.110772      -0.503727   0.0  0.0  0.0\n",
       " 1.0  1.0  0.0  -0.904634   0.0  -0.244822      -0.6602     0.0  2.0  0.0\n",
       " 1.0  0.0  0.0  -1.13513    0.0  -0.216334      -0.468313   0.0  0.0  2.0\n",
       " 1.0  0.0  0.0   2.16867    0.0   1.46815       -0.449937   0.0  0.0  0.0"
      ]
     },
     "execution_count": 14,
     "metadata": {},
     "output_type": "execute_result"
    }
   ],
   "source": [
    "optim_inds = indexin(optimcols, colnames)\n",
    "Xtrain_optim = Xtrain[:, optim_inds]\n",
    "Xtest_optim = Xtest[:, optim_inds]"
   ]
  },
  {
   "cell_type": "markdown",
   "metadata": {},
   "source": [
    "Creating the new model"
   ]
  },
  {
   "cell_type": "code",
   "execution_count": 15,
   "metadata": {},
   "outputs": [
    {
     "data": {
      "text/plain": [
       "GLMFit{GLModel{Binomial,LinearPredictor{Float64},Logit,Array{Symbol,1}},Main.GeneralizedLinearModels.Fit{Float64}}(GLModel{Binomial,LinearPredictor{Float64},Logit,Array{Symbol,1}}(Binomial(), LinearPredictor{Float64}([1.0 0.0 … 0.0 0.0; 1.0 2.0 … 0.0 0.0; … ; 1.0 0.0 … 0.0 0.0; 1.0 2.0 … 2.0 2.0], [0.0, 0.0, 0.0, 0.0, 0.0, 0.0, 0.0, 0.0, 0.0, 0.0, 0.0, 0.0, 0.0, 0.0, 0.0, 0.0, 0.0]), Logit(), Symbol[:Intercept, :PAY_0, :PAY_5, :LIMIT_BAL, :PAY_3, :PAY_AMT1, :MARRIAGE2, :EDUCATION5, :SEX, :PAY_6, :PAY_AMT2, :PAY_AMT6, :BILL_AMT3, :BILL_AMT6, :EDUCATION4, :PAY_2, :PAY_4]), Main.GeneralizedLinearModels.Fit{Float64}([0.0, 1.0, 0.0, 0.0, 0.0, 0.0, 0.0, 0.0, 0.0, 0.0  …  0.0, 0.0, 0.0, 0.0, 0.0, 0.0, 0.0, 1.0, 0.0, 1.0], [0.0, 0.0, 0.0, 0.0, 0.0, 0.0, 0.0, 0.0, 0.0, 0.0, 0.0, 0.0, 0.0, 0.0, 0.0, 0.0, 0.0], [6.9293772553971e-310, 2.3442640675e-314, 2.3442640675e-314, 2.3442640754e-314, 2.3442640793e-314, 2.344264087e-314, 2.121995791e-314, 2.344264091e-314, 2.344264091e-314, 2.344264099e-314  …  2.020834513692469, 1.8105514169803159, 1.7512352247987262, 1.70891009133415, 0.8551735142417768, 1.784851305350521, 0.19696599682901844, -0.20733176056358302, 1.8104982353762826, -1.2122093057411787], [2.2702775947e-314, 2.2702776105e-314, 2.2702776263e-314, 2.270277642e-314, 2.270277658e-314, 2.2702776737e-314, 2.2702776896e-314, 2.2702777054e-314, 2.2702794603e-314, 2.270629322e-314, 2.270629338e-314, 2.2706293536e-314, 2.2706293694e-314, 2.2706293852e-314, 2.2706209743e-314, 2.27062099e-314, 2.270629401e-314], [0.12788434084344974, 0.4625082600636592, 0.17378471564942927, 0.13291639179273254, 0.14248942473465737, 0.11010320995853505, 0.17699843307031105, 0.13029593409776585, 0.18791593359791878, 0.06040746505780248  …  0.11703272794777411, 0.1405714952104961, 0.14789146780698262, 0.15330513536926135, 0.2983487222041676, 0.14370512925566747, 0.4509170817383774, 0.5516480586276507, 0.14057792026404856, 0.7706896267810898], [0.2736664544423999, 1.5421817251840737, 0.38179980922704654, 0.28523974586525924, 0.30744353469427044, 0.2332995784522029, 0.3895943487651834, 0.2792045586688221, 0.41630282825500187, 0.12461794232123233  …  0.24893428711719545, 0.30297527989317274, 0.3200827501251105, 0.33282980702055665, 0.7086375073133926, 0.3102809739794621, 1.1990116275846676, 1.189690021984583, 0.3029902318700585, 0.5209390915315026], 0.0, 0.0), false)"
      ]
     },
     "execution_count": 15,
     "metadata": {},
     "output_type": "execute_result"
    }
   ],
   "source": [
    "fit_optim = glm(Xtrain_optim, ytrain, Binomial(), Logit(), optimcols)"
   ]
  },
  {
   "cell_type": "markdown",
   "metadata": {},
   "source": [
    "Fitting with Fisher's scoring algorithm"
   ]
  },
  {
   "cell_type": "code",
   "execution_count": 16,
   "metadata": {},
   "outputs": [
    {
     "name": "stdout",
     "output_type": "stream",
     "text": [
      "Fisher Iteration 1 𝐿(β) = -1.598045154156e+04\n",
      "Fisher Iteration 2 𝐿(β) = -9.578667305978e+03\n",
      "Fisher Iteration 3 𝐿(β) = -9.368819666331e+03\n",
      "Fisher Iteration 4 𝐿(β) = -9.358211324069e+03\n",
      "Fisher Iteration 5 𝐿(β) = -9.357784840962e+03\n",
      "Fisher Iteration 6 𝐿(β) = -9.357783139817e+03\n",
      "Stopping after 7 iterations\n"
     ]
    },
    {
     "data": {
      "text/plain": [
       "GLMFit{GLModel{Binomial,LinearPredictor{Float64},Logit,Array{Symbol,1}},Main.GeneralizedLinearModels.Fit{Float64}}(GLModel{Binomial,LinearPredictor{Float64},Logit,Array{Symbol,1}}(Binomial(), LinearPredictor{Float64}([1.0 0.0 … 0.0 0.0; 1.0 2.0 … 0.0 0.0; … ; 1.0 0.0 … 0.0 0.0; 1.0 2.0 … 2.0 2.0], [-1.7039906536620413, 0.865889048885035, 0.1013278748279022, -0.17261489758994267, 0.1262205882534356, -0.16390737626387944, -0.1964632475961091, -1.010861167002983, -0.1031844842640893, 0.16551407410355493, -0.22490708891774175, -0.05118680000524679, 0.10461285518721739, -0.08793415602161195, -1.5915302398241626, 0.05707996046079794, 0.09728208765764564]), Logit(), Symbol[:Intercept, :PAY_0, :PAY_5, :LIMIT_BAL, :PAY_3, :PAY_AMT1, :MARRIAGE2, :EDUCATION5, :SEX, :PAY_6, :PAY_AMT2, :PAY_AMT6, :BILL_AMT3, :BILL_AMT6, :EDUCATION4, :PAY_2, :PAY_4]), Main.GeneralizedLinearModels.Fit{Float64}([0.0, 1.0, 0.0, 0.0, 0.0, 0.0, 0.0, 0.0, 0.0, 0.0  …  0.0, 0.0, 0.0, 0.0, 0.0, 0.0, 0.0, 1.0, 0.0, 1.0], [-1.7039906536620413, 0.865889048885035, 0.1013278748279022, -0.17261489758994267, 0.1262205882534356, -0.16390737626387944, -0.1964632475961091, -1.010861167002983, -0.1031844842640893, 0.16551407410355493, -0.22490708891774175, -0.05118680000524679, 0.10461285518721739, -0.08793415602161195, -1.5915302398241626, 0.05707996046079794, 0.09728208765764564], [0.26626558634339553, 1.5813818796165882, 0.3851778525233813, 0.2984110590804947, 0.28219496059046945, 0.23110097121216433, 0.3509395522310441, 0.26926257918860425, 0.42326115447057255, 0.09940292099549923  …  0.2474271748849099, 0.28878799395473265, 0.3192510493201041, 0.3226243902773006, 0.6628110498763863, 0.30897169440851274, 1.169773259665544, 1.1860039145006847, 0.2878935452736779, 0.5086956790822148], [0.037820402250000884, 0.029597096665397615, 0.04040770650633037, 0.022471003435394307, 0.03377065362281485, 0.04081213839940429, 0.03716342636757384, 0.27608243569025365, 0.03760629164972819, 0.034573519327121556, 0.05464082797615125, 0.02701631298129441, 0.04412256169321977, 0.04240208860998364, 0.5934904194332993, 0.0314406524315667, 0.0373594185359943], [-1.9491034022466882, -0.18641264904372146, -1.5493578543080797, -1.8269003424747023, -1.886926154504882, -2.099716229012455, -1.6512710059581373, -1.9371446618063761, -1.4452323460486705, -2.97676730544286  …  -2.02729174082623, -1.8621440435359515, -1.7540504613123962, -1.7426735944861822, -0.934137686999156, -1.789415653248919, -0.22968049723218187, 0.2114471613227105, -1.865475083525646, 1.2391844993971601], [0.12465115595887499, 0.4535313241538198, 0.17517903330291837, 0.1386079448089948, 0.13159534477060889, 0.10912440529261384, 0.16093724347394428, 0.12596188076671522, 0.19073639725057906, 0.04848655354659278  …  0.11636711180150353, 0.13445334189765049, 0.14753704444245183, 0.14897365665740359, 0.2820860220196059, 0.14314438104116078, 0.4428309754227898, 0.5526657131542669, 0.13406616179255473, 0.7754220326869565], 20983.0, 18749.56627955613), true)"
      ]
     },
     "execution_count": 16,
     "metadata": {},
     "output_type": "execute_result"
    }
   ],
   "source": [
    "FisherScoring!(fit_optim)"
   ]
  },
  {
   "cell_type": "markdown",
   "metadata": {},
   "source": [
    "Inspecting the summary"
   ]
  },
  {
   "cell_type": "code",
   "execution_count": 17,
   "metadata": {},
   "outputs": [
    {
     "name": "stdout",
     "output_type": "stream",
     "text": [
      "\n",
      "Variable        β-hat          SE            Z        P(z > |Z|)     \n",
      "--------        -----          --            -        ----------     \n",
      "Intercept    -1.70399e+00  3.78204e-02 -4.50548e+01    0.00000 \n",
      "PAY_0         8.65889e-01  2.95971e-02  2.92559e+01    0.00000 \n",
      "PAY_5         1.01328e-01  4.04077e-02  2.50764e+00    0.01215 \n",
      "LIMIT_BAL    -1.72615e-01  2.24710e-02 -7.68167e+00    0.00000 \n",
      "PAY_3         1.26221e-01  3.37707e-02  3.73758e+00    0.00019 \n",
      "PAY_AMT1     -1.63907e-01  4.08121e-02 -4.01614e+00    0.00006 \n",
      "MARRIAGE2    -1.96463e-01  3.71634e-02 -5.28647e+00    0.00000 \n",
      "EDUCATION5   -1.01086e+00  2.76082e-01 -3.66145e+00    0.00025 \n",
      "SEX          -1.03184e-01  3.76063e-02 -2.74381e+00    0.00607 \n",
      "PAY_6         1.65514e-01  3.45735e-02  4.78731e+00    0.00000 \n",
      "PAY_AMT2     -2.24907e-01  5.46408e-02 -4.11610e+00    0.00004 \n",
      "PAY_AMT6     -5.11868e-02  2.70163e-02 -1.89466e+00    0.05814 \n",
      "BILL_AMT3     1.04613e-01  4.41226e-02  2.37096e+00    0.01774 \n",
      "BILL_AMT6    -8.79342e-02  4.24021e-02 -2.07382e+00    0.03810 \n",
      "EDUCATION4   -1.59153e+00  5.93490e-01 -2.68164e+00    0.00733 \n",
      "PAY_2         5.70800e-02  3.14407e-02  1.81548e+00    0.06945 \n",
      "PAY_4         9.72821e-02  3.73594e-02  2.60395e+00    0.00922 \n",
      "\n",
      "\n",
      "AIC: 18750\n",
      "DoF: 20983\n",
      "Residual Deviance: 18716"
     ]
    }
   ],
   "source": [
    "GeneralizedLinearModels.summary(fit_optim)"
   ]
  },
  {
   "cell_type": "markdown",
   "metadata": {},
   "source": [
    "We see now that we managed to drop many variables to achieve a lower AIC. \n",
    "\n",
    "Prediction and evaluation of accuracy on the training data:"
   ]
  },
  {
   "cell_type": "code",
   "execution_count": 18,
   "metadata": {},
   "outputs": [
    {
     "data": {
      "text/plain": [
       "0.8172380952380952"
      ]
     },
     "execution_count": 18,
     "metadata": {},
     "output_type": "execute_result"
    }
   ],
   "source": [
    "μ_optim = fit_optim.Fit.μ\n",
    "y_hat_optim = map(μi -> μi > 0.5 ? 1 : 0, μ_optim)\n",
    "Score(ytrain, y_hat_optim)"
   ]
  },
  {
   "cell_type": "markdown",
   "metadata": {},
   "source": [
    "This model also achieves better predictive accuracy on the training data than the full model."
   ]
  },
  {
   "cell_type": "markdown",
   "metadata": {},
   "source": [
    "Prediction and evaluation of accuracy on the test data:"
   ]
  },
  {
   "cell_type": "code",
   "execution_count": 19,
   "metadata": {},
   "outputs": [
    {
     "data": {
      "text/plain": [
       "0.8184444444444444"
      ]
     },
     "execution_count": 19,
     "metadata": {},
     "output_type": "execute_result"
    }
   ],
   "source": [
    "μ_optim_test = Predict(fit_optim, Xtest_optim)\n",
    "y_hat_test_optim = map(μi -> μi > 0.5 ? 1 : 0, μ_optim_test)\n",
    "Score(ytest, y_hat_test_optim)"
   ]
  },
  {
   "cell_type": "markdown",
   "metadata": {},
   "source": [
    "The accuracy on the test set is also slightly better than the full model performed on the test set."
   ]
  },
  {
   "cell_type": "code",
   "execution_count": null,
   "metadata": {},
   "outputs": [],
   "source": []
  }
 ],
 "metadata": {
  "kernelspec": {
   "display_name": "Julia 1.2.0",
   "language": "julia",
   "name": "julia-1.2"
  },
  "language_info": {
   "file_extension": ".jl",
   "mimetype": "application/julia",
   "name": "julia",
   "version": "1.2.0"
  }
 },
 "nbformat": 4,
 "nbformat_minor": 4
}
