{
 "cells": [
  {
   "cell_type": "code",
   "execution_count": 1,
   "metadata": {},
   "outputs": [],
   "source": [
    "using Revise, LinearAlgebra, Random, CSV, Printf"
   ]
  },
  {
   "cell_type": "markdown",
   "metadata": {},
   "source": [
    "Load the NeuralNetworks module."
   ]
  },
  {
   "cell_type": "code",
   "execution_count": 2,
   "metadata": {},
   "outputs": [],
   "source": [
    "includet(\"./NeuralNetworks//NeuralNetworks.jl\")\n",
    "using .NeuralNetworks"
   ]
  },
  {
   "cell_type": "markdown",
   "metadata": {},
   "source": [
    "Read the training data, and drop the ID-column, since it is of no predictive value. Split into design matrix and outcome vector."
   ]
  },
  {
   "cell_type": "code",
   "execution_count": 4,
   "metadata": {},
   "outputs": [
    {
     "name": "stdout",
     "output_type": "stream",
     "text": [
      "Symbol[:ID, :LIMIT_BAL, :SEX, :AGE, :EDUCATION2, :EDUCATION3, :EDUCATION4, :EDUCATION5, :MARRIAGE2, :MARRIAGE3, :PAY_0, :PAY_2, :PAY_3, :PAY_4, :PAY_5, :PAY_6, :BILL_AMT1, :BILL_AMT2, :BILL_AMT3, :BILL_AMT4, :BILL_AMT5, :BILL_AMT6, :PAY_AMT1, :PAY_AMT2, :PAY_AMT3, :PAY_AMT4, :PAY_AMT5, :PAY_AMT6, Symbol(\"default.payment.next.month\")]\n"
     ]
    },
    {
     "name": "stderr",
     "output_type": "stream",
     "text": [
      "┌ Warning: `getindex(df::DataFrame, col_inds::Union{AbstractVector, Regex, Not})` is deprecated, use `df[:, col_inds]` instead.\n",
      "│   caller = top-level scope at In[4]:4\n",
      "└ @ Core In[4]:4\n"
     ]
    },
    {
     "data": {
      "text/plain": [
       "([0.555185150030247 1.0 … 0.6189477105406902 -0.3012860091737996; 0.09418956435995768 1.0 … -0.2434678905136638 -0.2772231272518333; … ; 0.7856829428653916 1.0 … -0.30414220776795353 -0.15060377983071738; -0.136308228475187 0.0 … -0.3019178947117881 -0.24066605663961527], [0.0, 1.0, 0.0, 0.0, 0.0, 0.0, 0.0, 0.0, 0.0, 0.0  …  0.0, 0.0, 0.0, 0.0, 0.0, 0.0, 0.0, 1.0, 0.0, 1.0])"
      ]
     },
     "execution_count": 4,
     "metadata": {},
     "output_type": "execute_result"
    }
   ],
   "source": [
    "Xytrain = CSV.read(\"Data/CCDataCleanTrain.csv\")\n",
    "colnames = names(Xytrain)\n",
    "println(colnames)\n",
    "Xytrain = Matrix(Xytrain[2:end])\n",
    "Xtrain, ytrain = Xytrain[:, 1:27], Xytrain[:, 28]"
   ]
  },
  {
   "cell_type": "code",
   "execution_count": 5,
   "metadata": {},
   "outputs": [
    {
     "data": {
      "text/plain": [
       "(21000, 28)"
      ]
     },
     "execution_count": 5,
     "metadata": {},
     "output_type": "execute_result"
    }
   ],
   "source": [
    "size(Xytrain)"
   ]
  },
  {
   "cell_type": "markdown",
   "metadata": {},
   "source": [
    "Perform onehot encoding on y-vector."
   ]
  },
  {
   "cell_type": "code",
   "execution_count": 6,
   "metadata": {},
   "outputs": [
    {
     "data": {
      "text/plain": [
       "21000×2 Array{Float64,2}:\n",
       " 1.0  0.0\n",
       " 0.0  1.0\n",
       " 1.0  0.0\n",
       " 1.0  0.0\n",
       " 1.0  0.0\n",
       " 1.0  0.0\n",
       " 1.0  0.0\n",
       " 1.0  0.0\n",
       " 1.0  0.0\n",
       " 1.0  0.0\n",
       " 0.0  1.0\n",
       " 1.0  0.0\n",
       " 1.0  0.0\n",
       " ⋮       \n",
       " 1.0  0.0\n",
       " 1.0  0.0\n",
       " 1.0  0.0\n",
       " 1.0  0.0\n",
       " 1.0  0.0\n",
       " 1.0  0.0\n",
       " 1.0  0.0\n",
       " 1.0  0.0\n",
       " 1.0  0.0\n",
       " 0.0  1.0\n",
       " 1.0  0.0\n",
       " 0.0  1.0"
      ]
     },
     "execution_count": 6,
     "metadata": {},
     "output_type": "execute_result"
    }
   ],
   "source": [
    "y_onehot = Float64.([yi == c for yi in ytrain, c in (0, 1)])"
   ]
  },
  {
   "cell_type": "markdown",
   "metadata": {},
   "source": [
    "### Setting up the NN\n",
    "\n",
    "#### FeedForward Model Setup\n",
    "\n",
    "Here, the feed forward model is selected as the architecture of the neural network we will use."
   ]
  },
  {
   "cell_type": "code",
   "execution_count": 7,
   "metadata": {},
   "outputs": [
    {
     "data": {
      "text/plain": [
       "FeedForwardNet{Float64}([0.555185150030247 1.0 … 0.6189477105406902 -0.3012860091737996; 0.09418956435995768 1.0 … -0.2434678905136638 -0.2772231272518333; … ; 0.7856829428653916 1.0 … -0.30414220776795353 -0.15060377983071738; -0.136308228475187 0.0 … -0.3019178947117881 -0.24066605663961527], [1.0 0.0; 0.0 1.0; … ; 1.0 0.0; 0.0 1.0], 20, 2, 100, 500, 0.1, 0.5, 21000, 27, 42)"
      ]
     },
     "execution_count": 7,
     "metadata": {},
     "output_type": "execute_result"
    }
   ],
   "source": [
    "ff = FeedForwardNet{Float64}(Xtrain,     #X_data\n",
    "                             y_onehot,   #Y_data\n",
    "                             20,         #n_hidden_neurons\n",
    "                             2,          #n_categories\n",
    "                             100,        #epochs\n",
    "                             500,        #batch_size\n",
    "                             0.1,        #η\n",
    "                             .5)         #λ\n",
    "\n",
    "ff"
   ]
  },
  {
   "cell_type": "code",
   "execution_count": 8,
   "metadata": {},
   "outputs": [
    {
     "data": {
      "text/plain": [
       "42"
      ]
     },
     "execution_count": 8,
     "metadata": {},
     "output_type": "execute_result"
    }
   ],
   "source": [
    "ff.iterations"
   ]
  },
  {
   "cell_type": "markdown",
   "metadata": {},
   "source": [
    "#### Parameters\n",
    "\n",
    "Initialize the parameters for the neural network. `rng` is a random number generator used to randomly select starting values for the weights. "
   ]
  },
  {
   "cell_type": "code",
   "execution_count": 9,
   "metadata": {},
   "outputs": [
    {
     "data": {
      "text/plain": [
       "Parameters{Float64}([0.8673472019512456 0.7692782605345824 … -0.946598947349706 1.2725914022859486; -0.9017438158568171 -0.31015257323306406 … -0.023545616079346052 -1.899221574511888; … ; -0.07401454242444336 -0.6864935365141717 … -0.18761736894830652 -1.4919454611677114; 0.1509756176321479 -0.7129319615024848 … -0.7321608989850492 -2.8398124127085147], [0.01, 0.01, 0.01, 0.01, 0.01, 0.01, 0.01, 0.01, 0.01, 0.01, 0.01, 0.01, 0.01, 0.01, 0.01, 0.01, 0.01, 0.01, 0.01, 0.01], [0.34416258762111895 0.25437048313045746; -0.3265358894486727 -0.06812133639648942; … ; -0.3254657985816864 0.9634421310448461; -1.5906210270117098 0.4767669134455632], [0.01, 0.01], [0.0 0.0 … 0.0 0.0; 0.0 0.0 … 0.0 0.0; … ; 0.0 0.0 … 0.0 0.0; 0.0 0.0 … 0.0 0.0], [0.0 0.0 … 0.0 0.0; 0.0 0.0 … 0.0 0.0; … ; 0.0 0.0 … 0.0 0.0; 0.0 0.0 … 0.0 0.0], [0.0 0.0; 0.0 0.0; … ; 0.0 0.0; 0.0 0.0], [0.0 0.0; 0.0 0.0; … ; 0.0 0.0; 0.0 0.0])"
      ]
     },
     "execution_count": 9,
     "metadata": {},
     "output_type": "execute_result"
    }
   ],
   "source": [
    "rng = MersenneTwister(1234)\n",
    "params = Parameters(rng, ff)"
   ]
  },
  {
   "cell_type": "markdown",
   "metadata": {},
   "source": [
    "#### Neural Network Model\n",
    "\n",
    "Create the neural network model with the architecture and the unfitted parameter values."
   ]
  },
  {
   "cell_type": "code",
   "execution_count": 10,
   "metadata": {},
   "outputs": [
    {
     "data": {
      "text/plain": [
       "NeuralNetwork{FeedForwardNet{Float64},Parameters{Float64}}(FeedForwardNet{Float64}([0.555185150030247 1.0 … 0.6189477105406902 -0.3012860091737996; 0.09418956435995768 1.0 … -0.2434678905136638 -0.2772231272518333; … ; 0.7856829428653916 1.0 … -0.30414220776795353 -0.15060377983071738; -0.136308228475187 0.0 … -0.3019178947117881 -0.24066605663961527], [1.0 0.0; 0.0 1.0; … ; 1.0 0.0; 0.0 1.0], 20, 2, 100, 500, 0.1, 0.5, 21000, 27, 42), Parameters{Float64}([0.8673472019512456 0.7692782605345824 … -0.946598947349706 1.2725914022859486; -0.9017438158568171 -0.31015257323306406 … -0.023545616079346052 -1.899221574511888; … ; -0.07401454242444336 -0.6864935365141717 … -0.18761736894830652 -1.4919454611677114; 0.1509756176321479 -0.7129319615024848 … -0.7321608989850492 -2.8398124127085147], [0.01, 0.01, 0.01, 0.01, 0.01, 0.01, 0.01, 0.01, 0.01, 0.01, 0.01, 0.01, 0.01, 0.01, 0.01, 0.01, 0.01, 0.01, 0.01, 0.01], [0.34416258762111895 0.25437048313045746; -0.3265358894486727 -0.06812133639648942; … ; -0.3254657985816864 0.9634421310448461; -1.5906210270117098 0.4767669134455632], [0.01, 0.01], [0.0 0.0 … 0.0 0.0; 0.0 0.0 … 0.0 0.0; … ; 0.0 0.0 … 0.0 0.0; 0.0 0.0 … 0.0 0.0], [0.0 0.0 … 0.0 0.0; 0.0 0.0 … 0.0 0.0; … ; 0.0 0.0 … 0.0 0.0; 0.0 0.0 … 0.0 0.0], [0.0 0.0; 0.0 0.0; … ; 0.0 0.0; 0.0 0.0], [0.0 0.0; 0.0 0.0; … ; 0.0 0.0; 0.0 0.0]), false)"
      ]
     },
     "execution_count": 10,
     "metadata": {},
     "output_type": "execute_result"
    }
   ],
   "source": [
    "nn = NeuralNetwork(ff, params, false)"
   ]
  },
  {
   "cell_type": "markdown",
   "metadata": {},
   "source": [
    "#### Training\n",
    "\n",
    "Train the neural network. The random number generator is used when sampling batches from the training data."
   ]
  },
  {
   "cell_type": "code",
   "execution_count": 11,
   "metadata": {},
   "outputs": [
    {
     "data": {
      "text/plain": [
       "NeuralNetwork{FeedForwardNet{Float64},Parameters{Float64}}(FeedForwardNet{Float64}([0.555185150030247 1.0 … 0.6189477105406902 -0.3012860091737996; 0.09418956435995768 1.0 … -0.2434678905136638 -0.2772231272518333; … ; 0.7856829428653916 1.0 … -0.30414220776795353 -0.15060377983071738; -0.136308228475187 0.0 … -0.3019178947117881 -0.24066605663961527], [1.0 0.0; 0.0 1.0; … ; 1.0 0.0; 0.0 1.0], 20, 2, 100, 500, 0.1, 0.5, 21000, 27, 42), Parameters{Float64}([0.8673472019512456 0.7692782605345824 … -0.946598947349706 1.2725914022859486; -0.9017438158568171 -0.31015257323306406 … -0.023545616079346052 -1.899221574511888; … ; -0.07401454242444336 -0.6864935365141717 … -0.18761736894830652 -1.4919454611677114; 0.1509756176321479 -0.7129319615024848 … -0.7321608989850492 -2.8398124127085147], [0.01, 0.01, 0.01, 0.01, 0.01, 0.01, 0.01, 0.01, 0.01, 0.01, 0.01, 0.01, 0.01, 0.01, 0.01, 0.01, 0.01, 0.01, 0.01, 0.01], [0.34416258762111895 0.25437048313045746; -0.3265358894486727 -0.06812133639648942; … ; -0.3254657985816864 0.9634421310448461; -1.5906210270117098 0.4767669134455632], [0.01, 0.01], [0.5908075093444011 3.4421873304443444 … 2.492471581830793 -1.0104669773644976; -2.0354704732300375 2.2090168798395267 … -0.35360036566328573 -4.208748826795309; … ; 14.50308521336478 -26.40573396719624 … -48.2148415607688 -32.2584101789384; -0.27849363011448575 -8.236547670585457 … -9.760117096361913 -1.0613758394909092], [0.643550404377481 0.9689972940638467 … 0.9236123617640482 0.2668884724840541; 0.11552876214594535 0.9010563124422237 … 0.4125096149199449 0.0146472249962452; … ; 0.9999994972062126 3.4051437251121216e-12 … 1.1496360248019176e-21 9.7802614417263e-15; 0.43082312133080497 0.00026472674038083147 … 5.770453435315101e-5 0.2570466177866385], [-2.724238467604602 -0.05175223407830028; -2.3007894071703854 -0.05703191743536765; … ; -4.711005746766909 -3.681587509454563; -2.244930707874545 0.08600346318844229], [0.06461653481207733 0.9353834651879227; 0.09588929287410931 0.9041107071258907; … ; 0.2631969065424008 0.7368030934575991; 0.08859320513194881 0.9114067948680512]), true)"
      ]
     },
     "execution_count": 11,
     "metadata": {},
     "output_type": "execute_result"
    }
   ],
   "source": [
    "Train!(nn, rng)"
   ]
  },
  {
   "cell_type": "markdown",
   "metadata": {},
   "source": [
    "#### Predicting and scoring\n",
    "\n",
    "Predict and get accuracy score on the training set. Since Julia is 1-indexed, subtract 1 from the predicted labels to get correct ones."
   ]
  },
  {
   "cell_type": "code",
   "execution_count": 12,
   "metadata": {},
   "outputs": [
    {
     "data": {
      "text/plain": [
       "0.23485714285714285"
      ]
     },
     "execution_count": 12,
     "metadata": {},
     "output_type": "execute_result"
    }
   ],
   "source": [
    "y_hat = Predict(nn, Xtrain) .- 1\n",
    "Score(ytrain, y_hat)"
   ]
  },
  {
   "cell_type": "markdown",
   "metadata": {},
   "source": [
    "This score is not very good, and needs to be improved. "
   ]
  },
  {
   "cell_type": "markdown",
   "metadata": {},
   "source": [
    "## Test Data\n",
    "\n",
    "Read in the test data, drop the ID-column, and split into design matrix and outcome vector."
   ]
  },
  {
   "cell_type": "code",
   "execution_count": 14,
   "metadata": {},
   "outputs": [
    {
     "name": "stderr",
     "output_type": "stream",
     "text": [
      "┌ Warning: `getindex(df::DataFrame, col_inds::Union{AbstractVector, Regex, Not})` is deprecated, use `df[:, col_inds]` instead.\n",
      "│   caller = top-level scope at In[14]:2\n",
      "└ @ Core In[14]:2\n"
     ]
    },
    {
     "data": {
      "text/plain": [
       "([-0.3668060213103317 0.0 … -0.056996312638463886 -0.13643213062186701; -0.6741364117571912 0.0 … -0.2800454829928283 -0.2787270573719562; … ; -1.1351319974274805 0.0 … -0.2423557339855811 -0.3012860091737996; 2.16866969987626 0.0 … 0.4667058391409246 0.08788483114107844], [0.0, 0.0, 0.0, 0.0, 0.0, 0.0, 0.0, 0.0, 0.0, 0.0  …  0.0, 0.0, 0.0, 0.0, 0.0, 0.0, 0.0, 1.0, 1.0, 0.0])"
      ]
     },
     "execution_count": 14,
     "metadata": {},
     "output_type": "execute_result"
    }
   ],
   "source": [
    "Xytest = CSV.read(\"Data/CCDataCleanTest.csv\")\n",
    "Xytest = Matrix(Xytest[2:end])\n",
    "Xtest, ytest = Xytest[:, 1:27], Xytest[:, 28]"
   ]
  },
  {
   "cell_type": "markdown",
   "metadata": {},
   "source": [
    "## Evaluation on Test Set\n",
    "Performing grid search on the test set to find optimal values for $\\eta$ and $\\lambda$"
   ]
  },
  {
   "cell_type": "code",
   "execution_count": 15,
   "metadata": {},
   "outputs": [
    {
     "name": "stdout",
     "output_type": "stream",
     "text": [
      "η: 1.00000e-05  λ: 1.00000e-05 Accuracy: 0.231000\n",
      "η: 1.00000e-05  λ: 1.00000e-04 Accuracy: 0.304000\n",
      "η: 1.00000e-05  λ: 1.00000e-03 Accuracy: 0.667444\n",
      "η: 1.00000e-05  λ: 1.00000e-02 Accuracy: 0.254667\n",
      "η: 1.00000e-05  λ: 1.00000e-01 Accuracy: 0.774222\n",
      "η: 1.00000e-05  λ: 1.00000e+00 Accuracy: 0.314889\n",
      "η: 1.00000e-05  λ: 1.00000e+01 Accuracy: 0.366000\n",
      "η: 1.00000e-04  λ: 1.00000e-05 Accuracy: 0.391667\n",
      "η: 1.00000e-04  λ: 1.00000e-04 Accuracy: 0.240000\n",
      "η: 1.00000e-04  λ: 1.00000e-03 Accuracy: 0.450889\n",
      "η: 1.00000e-04  λ: 1.00000e-02 Accuracy: 0.761889\n",
      "η: 1.00000e-04  λ: 1.00000e-01 Accuracy: 0.322778\n",
      "η: 1.00000e-04  λ: 1.00000e+00 Accuracy: 0.220111\n",
      "η: 1.00000e-04  λ: 1.00000e+01 Accuracy: 0.779889\n",
      "η: 1.00000e-03  λ: 1.00000e-05 Accuracy: 0.610889\n",
      "η: 1.00000e-03  λ: 1.00000e-04 Accuracy: 0.236778\n",
      "η: 1.00000e-03  λ: 1.00000e-03 Accuracy: 0.646000\n",
      "η: 1.00000e-03  λ: 1.00000e-02 Accuracy: 0.370778\n",
      "η: 1.00000e-03  λ: 1.00000e-01 Accuracy: 0.752111\n",
      "η: 1.00000e-03  λ: 1.00000e+00 Accuracy: 0.403889\n",
      "η: 1.00000e-03  λ: 1.00000e+01 Accuracy: 0.220667\n",
      "η: 1.00000e-02  λ: 1.00000e-05 Accuracy: 0.766667\n",
      "η: 1.00000e-02  λ: 1.00000e-04 Accuracy: 0.639111\n",
      "η: 1.00000e-02  λ: 1.00000e-03 Accuracy: 0.304778\n",
      "η: 1.00000e-02  λ: 1.00000e-02 Accuracy: 0.587444\n",
      "η: 1.00000e-02  λ: 1.00000e-01 Accuracy: 0.759889\n",
      "η: 1.00000e-02  λ: 1.00000e+00 Accuracy: 0.584111\n",
      "η: 1.00000e-02  λ: 1.00000e+01 Accuracy: 0.271778\n",
      "η: 1.00000e-01  λ: 1.00000e-05 Accuracy: 0.230556\n",
      "η: 1.00000e-01  λ: 1.00000e-04 Accuracy: 0.745667\n",
      "η: 1.00000e-01  λ: 1.00000e-03 Accuracy: 0.220111\n",
      "η: 1.00000e-01  λ: 1.00000e-02 Accuracy: 0.394778\n",
      "η: 1.00000e-01  λ: 1.00000e-01 Accuracy: 0.705556\n",
      "η: 1.00000e-01  λ: 1.00000e+00 Accuracy: 0.669778\n",
      "η: 1.00000e-01  λ: 1.00000e+01 Accuracy: 0.733778\n",
      "η: 1.00000e+00  λ: 1.00000e-05 Accuracy: 0.228222\n",
      "η: 1.00000e+00  λ: 1.00000e-04 Accuracy: 0.705333\n",
      "η: 1.00000e+00  λ: 1.00000e-03 Accuracy: 0.777556\n",
      "η: 1.00000e+00  λ: 1.00000e-02 Accuracy: 0.223111\n",
      "η: 1.00000e+00  λ: 1.00000e-01 Accuracy: 0.743333\n",
      "η: 1.00000e+00  λ: 1.00000e+00 Accuracy: 0.558889\n",
      "η: 1.00000e+00  λ: 1.00000e+01 Accuracy: 0.579556\n",
      "η: 1.00000e+01  λ: 1.00000e-05 Accuracy: 0.365000\n",
      "η: 1.00000e+01  λ: 1.00000e-04 Accuracy: 0.779667\n",
      "η: 1.00000e+01  λ: 1.00000e-03 Accuracy: 0.789111\n",
      "η: 1.00000e+01  λ: 1.00000e-02 Accuracy: 0.723556\n",
      "η: 1.00000e+01  λ: 1.00000e-01 Accuracy: 0.720111\n",
      "η: 1.00000e+01  λ: 1.00000e+00 Accuracy: 0.473556\n",
      "η: 1.00000e+01  λ: 1.00000e+01 Accuracy: 0.650222\n"
     ]
    }
   ],
   "source": [
    "η_grid = exp10.(range(-5, stop=1, length=7))\n",
    "λ_grid = exp10.(range(-5, stop=1, length=7))\n",
    "\n",
    "grid = zeros(Float64, (7, 7))\n",
    "\n",
    "for (i, η) in enumerate(η_grid)\n",
    "    for (j, λ) in enumerate(λ_grid)\n",
    "        \n",
    "        ffn = FeedForwardNet{Float64}(Xtrain,    #X_data\n",
    "                                      y_onehot,  #Y_data\n",
    "                                      20,        #n_hidden_neurons\n",
    "                                      2,         #n_categories\n",
    "                                      100,       #epochs\n",
    "                                      500,      #batch_size\n",
    "                                      η,         #η\n",
    "                                      λ)         #λ\n",
    "        \n",
    "        params = Parameters(rng, ffn)\n",
    "        \n",
    "        nn = NeuralNetwork(ffn, params, false)\n",
    "        \n",
    "        Train!(nn, rng)\n",
    "        \n",
    "        y_hat = Predict(nn, Xtest) .- 1\n",
    "        \n",
    "        s = Score(ytest, y_hat)\n",
    "        \n",
    "        println(@sprintf \"η: %.5e  λ: %.5e Accuracy: %.6f\" η λ s)\n",
    "        \n",
    "        grid[i, j] = s\n",
    "    end\n",
    "end"
   ]
  },
  {
   "cell_type": "code",
   "execution_count": 17,
   "metadata": {},
   "outputs": [
    {
     "data": {
      "text/plain": [
       "\"Maximum Acc.: 0.789111 with η 1.000e+01 and λ 1.000e-03\""
      ]
     },
     "execution_count": 17,
     "metadata": {},
     "output_type": "execute_result"
    }
   ],
   "source": [
    "acc = maximum(grid)\n",
    "η_optim = η_grid[argmax(grid)[1]]\n",
    "λ_optim = λ_grid[argmax(grid)[2]]\n",
    "\n",
    "@sprintf \"Maximum Acc.: %.6f with η %.3e and λ %.3e\" acc η_optim λ_optim"
   ]
  },
  {
   "cell_type": "markdown",
   "metadata": {},
   "source": [
    "## Fitting With Optimal Parameters\n",
    "\n",
    "Now we use the optimal values for $\\eta$ and $\\lambda$ to train the network, and then predict on the test set. "
   ]
  },
  {
   "cell_type": "code",
   "execution_count": 18,
   "metadata": {},
   "outputs": [
    {
     "data": {
      "text/plain": [
       "NeuralNetwork{FeedForwardNet{Float64},Parameters{Float64}}(FeedForwardNet{Float64}([0.555185150030247 1.0 … 0.6189477105406902 -0.3012860091737996; 0.09418956435995768 1.0 … -0.2434678905136638 -0.2772231272518333; … ; 0.7856829428653916 1.0 … -0.30414220776795353 -0.15060377983071738; -0.136308228475187 0.0 … -0.3019178947117881 -0.24066605663961527], [1.0 0.0; 0.0 1.0; … ; 1.0 0.0; 0.0 1.0], 20, 2, 100, 500, 10.0, 0.001, 21000, 27, 42), Parameters{Float64}([0.16148374241835553 0.6565250687919649 … -0.23539422287993353 -0.3820236247275385; -0.5067231977166837 2.774496194457105 … 0.6876281991793981 1.8518329009130197; … ; 0.33179883794538484 -0.5682512512863014 … 1.072089221362957 -0.4656796061826088; -0.33088193393745485 -1.1321523606201436 … -1.1725323201758697 1.1069535428126334], [0.01, 0.01, 0.01, 0.01, 0.01, 0.01, 0.01, 0.01, 0.01, 0.01, 0.01, 0.01, 0.01, 0.01, 0.01, 0.01, 0.01, 0.01, 0.01, 0.01], [-0.22071181842164986 -1.5774811868198162; 1.907083899461616 -0.4966072961166837; … ; 1.524278383148693 0.9680628587003405; -0.3259762502835306 -0.1823703788382167], [0.01, 0.01], [0.0 0.0 … 0.0 0.0; 0.0 0.0 … 0.0 0.0; … ; 0.0 0.0 … 0.0 0.0; 0.0 0.0 … 0.0 0.0], [0.0 0.0 … 0.0 0.0; 0.0 0.0 … 0.0 0.0; … ; 0.0 0.0 … 0.0 0.0; 0.0 0.0 … 0.0 0.0], [0.0 0.0; 0.0 0.0; … ; 0.0 0.0; 0.0 0.0], [0.0 0.0; 0.0 0.0; … ; 0.0 0.0; 0.0 0.0]), false)"
      ]
     },
     "execution_count": 18,
     "metadata": {},
     "output_type": "execute_result"
    }
   ],
   "source": [
    "ff_optim = FeedForwardNet{Float64}(Xtrain,    #X_data\n",
    "                                   y_onehot,  #Y_data\n",
    "                                   20,        #n_hidden_neurons\n",
    "                                   2,         #n_categories\n",
    "                                   100,       #epochs\n",
    "                                   500,       #batch_size\n",
    "                                   η_optim,   #η\n",
    "                                   λ_optim)   #λ\n",
    "\n",
    "params = Parameters(rng, ff_optim)\n",
    "nn_optim = NeuralNetwork(ff_optim, params, false)"
   ]
  },
  {
   "cell_type": "code",
   "execution_count": 19,
   "metadata": {},
   "outputs": [
    {
     "data": {
      "text/plain": [
       "NeuralNetwork{FeedForwardNet{Float64},Parameters{Float64}}(FeedForwardNet{Float64}([0.555185150030247 1.0 … 0.6189477105406902 -0.3012860091737996; 0.09418956435995768 1.0 … -0.2434678905136638 -0.2772231272518333; … ; 0.7856829428653916 1.0 … -0.30414220776795353 -0.15060377983071738; -0.136308228475187 0.0 … -0.3019178947117881 -0.24066605663961527], [1.0 0.0; 0.0 1.0; … ; 1.0 0.0; 0.0 1.0], 20, 2, 100, 500, 10.0, 0.001, 21000, 27, 42), Parameters{Float64}([0.16148374241835553 0.6565250687919649 … -0.23539422287993353 -0.3820236247275385; -0.5067231977166837 2.774496194457105 … 0.6876281991793981 1.8518329009130197; … ; 0.33179883794538484 -0.5682512512863014 … 1.072089221362957 -0.4656796061826088; -0.33088193393745485 -1.1321523606201436 … -1.1725323201758697 1.1069535428126334], [0.01, 0.01, 0.01, 0.01, 0.01, 0.01, 0.01, 0.01, 0.01, 0.01, 0.01, 0.01, 0.01, 0.01, 0.01, 0.01, 0.01, 0.01, 0.01, 0.01], [-0.22071181842164986 -1.5774811868198162; 1.907083899461616 -0.4966072961166837; … ; 1.524278383148693 0.9680628587003405; -0.3259762502835306 -0.1823703788382167], [0.01, 0.01], [-3.208661024703274 1.9228426765555608 … 2.074286240395132 8.337893253738663; 0.5364541799637857 4.404961749000859 … 2.8624536568150383 1.10240454147614; … ; 0.3151297052440748 -3.15672371516177 … -4.3863985414242626 4.076636405355082; -1.8243770627731979 1.962358631986704 … 3.036402074233196 -0.4038536894582573], [0.038841090848071254 0.8724550938341037 … 0.8883787016163085 0.9997607813333319; 0.6309871847897117 0.9879308697175588 … 0.9459588694795764 0.7507103730716034; … ; 0.5781368676173775 0.04082716104456709 … 0.012292484696459655 0.9833185598797737; 0.13890948857901503 0.8767879839003297 … 0.9541918213815307 0.40038680272238986], [2.382077196137458 1.0994742564721642; 2.6599726716434997 2.4290079231044537; … ; -1.2900305859386303 -1.0575784622461615; 1.8922744154211972 1.9328612876258497], [0.7828925285798124 0.21710747142018763; 0.557485866782846 0.44251413321715405; … ; 0.44214723608419987 0.5578527639158002; 0.4898546746052382 0.5101453253947619]), true)"
      ]
     },
     "execution_count": 19,
     "metadata": {},
     "output_type": "execute_result"
    }
   ],
   "source": [
    "Train!(nn_optim, rng)"
   ]
  },
  {
   "cell_type": "markdown",
   "metadata": {},
   "source": [
    "Prediction and evaluation of accuracy on train set"
   ]
  },
  {
   "cell_type": "code",
   "execution_count": 21,
   "metadata": {},
   "outputs": [
    {
     "data": {
      "text/plain": [
       "0.6994285714285714"
      ]
     },
     "execution_count": 21,
     "metadata": {},
     "output_type": "execute_result"
    }
   ],
   "source": [
    "y_hat = Predict(nn_optim, Xtrain) .- 1\n",
    "Score(ytrain, y_hat)"
   ]
  },
  {
   "cell_type": "markdown",
   "metadata": {},
   "source": [
    "Prediction and evaluation of accuracy on test set"
   ]
  },
  {
   "cell_type": "code",
   "execution_count": 22,
   "metadata": {},
   "outputs": [
    {
     "data": {
      "text/plain": [
       "0.7043333333333334"
      ]
     },
     "execution_count": 22,
     "metadata": {},
     "output_type": "execute_result"
    }
   ],
   "source": [
    "y_hat_test = Predict(nn_optim, Xtest) .- 1\n",
    "Score(ytest, y_hat_test)"
   ]
  },
  {
   "cell_type": "markdown",
   "metadata": {},
   "source": [
    "Thus, we see that the score has improved a lot. And surprisingly, this network performs slightly better on the test data than on the training data."
   ]
  },
  {
   "cell_type": "code",
   "execution_count": null,
   "metadata": {},
   "outputs": [],
   "source": []
  }
 ],
 "metadata": {
  "kernelspec": {
   "display_name": "Julia 1.2.0",
   "language": "julia",
   "name": "julia-1.2"
  },
  "language_info": {
   "file_extension": ".jl",
   "mimetype": "application/julia",
   "name": "julia",
   "version": "1.2.0"
  }
 },
 "nbformat": 4,
 "nbformat_minor": 4
}
